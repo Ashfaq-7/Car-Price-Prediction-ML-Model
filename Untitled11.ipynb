{
 "cells": [
  {
   "cell_type": "code",
   "execution_count": null,
   "metadata": {
    "colab": {
     "base_uri": "https://localhost:8080/"
    },
    "id": "a-sDfhtyzvOi",
    "outputId": "86e5a376-fe6f-45de-beed-b3e4b4d15b1f"
   },
   "outputs": [
    {
     "name": "stdout",
     "output_type": "stream",
     "text": [
      "Requirement already satisfied: pandas in /usr/local/lib/python3.10/dist-packages (2.2.2)\n",
      "Requirement already satisfied: numpy>=1.22.4 in /usr/local/lib/python3.10/dist-packages (from pandas) (1.26.4)\n",
      "Requirement already satisfied: python-dateutil>=2.8.2 in /usr/local/lib/python3.10/dist-packages (from pandas) (2.8.2)\n",
      "Requirement already satisfied: pytz>=2020.1 in /usr/local/lib/python3.10/dist-packages (from pandas) (2024.2)\n",
      "Requirement already satisfied: tzdata>=2022.7 in /usr/local/lib/python3.10/dist-packages (from pandas) (2024.2)\n",
      "Requirement already satisfied: six>=1.5 in /usr/local/lib/python3.10/dist-packages (from python-dateutil>=2.8.2->pandas) (1.16.0)\n"
     ]
    }
   ],
   "source": [
    "pip install pandas"
   ]
  },
  {
   "cell_type": "code",
   "execution_count": null,
   "metadata": {
    "colab": {
     "base_uri": "https://localhost:8080/"
    },
    "id": "J4FnUyW5z0iT",
    "outputId": "98b56dd2-32c2-4e38-806d-a96ad0e8ce3c"
   },
   "outputs": [
    {
     "name": "stdout",
     "output_type": "stream",
     "text": [
      "Requirement already satisfied: numpy in /usr/local/lib/python3.10/dist-packages (1.26.4)\n"
     ]
    }
   ],
   "source": [
    "pip install numpy"
   ]
  },
  {
   "cell_type": "code",
   "execution_count": 1,
   "metadata": {
    "colab": {
     "base_uri": "https://localhost:8080/"
    },
    "id": "WzyUuC-Bz0kX",
    "outputId": "14992d87-7997-4e6d-89d7-bda3abeed0af"
   },
   "outputs": [
    {
     "name": "stdout",
     "output_type": "stream",
     "text": [
      "Defaulting to user installation because normal site-packages is not writeable\n",
      "Collecting scikit-learn\n",
      "  Using cached scikit_learn-1.5.2-cp311-cp311-win_amd64.whl.metadata (13 kB)\n",
      "Requirement already satisfied: numpy>=1.19.5 in c:\\users\\ashfa\\appdata\\roaming\\python\\python311\\site-packages (from scikit-learn) (2.1.3)\n",
      "Collecting scipy>=1.6.0 (from scikit-learn)\n",
      "  Using cached scipy-1.14.1-cp311-cp311-win_amd64.whl.metadata (60 kB)\n",
      "Collecting joblib>=1.2.0 (from scikit-learn)\n",
      "  Using cached joblib-1.4.2-py3-none-any.whl.metadata (5.4 kB)\n",
      "Collecting threadpoolctl>=3.1.0 (from scikit-learn)\n",
      "  Using cached threadpoolctl-3.5.0-py3-none-any.whl.metadata (13 kB)\n",
      "Using cached scikit_learn-1.5.2-cp311-cp311-win_amd64.whl (11.0 MB)\n",
      "Using cached joblib-1.4.2-py3-none-any.whl (301 kB)\n",
      "Using cached scipy-1.14.1-cp311-cp311-win_amd64.whl (44.8 MB)\n",
      "Using cached threadpoolctl-3.5.0-py3-none-any.whl (18 kB)\n",
      "Installing collected packages: threadpoolctl, scipy, joblib, scikit-learn\n",
      "Successfully installed joblib-1.4.2 scikit-learn-1.5.2 scipy-1.14.1 threadpoolctl-3.5.0\n",
      "Note: you may need to restart the kernel to use updated packages.\n"
     ]
    },
    {
     "name": "stderr",
     "output_type": "stream",
     "text": [
      "\n",
      "[notice] A new release of pip is available: 24.0 -> 24.3.1\n",
      "[notice] To update, run: python.exe -m pip install --upgrade pip\n"
     ]
    }
   ],
   "source": [
    "pip install scikit-learn"
   ]
  },
  {
   "cell_type": "code",
   "execution_count": 2,
   "metadata": {
    "colab": {
     "base_uri": "https://localhost:8080/"
    },
    "id": "XuDUxc7Bz0mk",
    "outputId": "0c343b07-5ea9-4641-e9e2-d188a048f461"
   },
   "outputs": [
    {
     "name": "stdout",
     "output_type": "stream",
     "text": [
      "Defaulting to user installation because normal site-packages is not writeable\n",
      "Note: you may need to restart the kernel to use updated packages.\n"
     ]
    },
    {
     "name": "stderr",
     "output_type": "stream",
     "text": [
      "ERROR: Could not find a version that satisfies the requirement pickle (from versions: none)\n",
      "ERROR: No matching distribution found for pickle\n",
      "\n",
      "[notice] A new release of pip is available: 24.0 -> 24.3.1\n",
      "[notice] To update, run: python.exe -m pip install --upgrade pip\n"
     ]
    }
   ],
   "source": [
    "pip install pickle"
   ]
  },
  {
   "cell_type": "code",
   "execution_count": 3,
   "metadata": {
    "colab": {
     "base_uri": "https://localhost:8080/"
    },
    "id": "xbe2w-7xz0pL",
    "outputId": "6810cbf8-3a82-4006-ce6e-3b230f419f97"
   },
   "outputs": [
    {
     "name": "stdout",
     "output_type": "stream",
     "text": [
      "Defaulting to user installation because normal site-packages is not writeable\n",
      "Requirement already satisfied: streamlit in c:\\users\\ashfa\\appdata\\roaming\\python\\python311\\site-packages (1.40.1)\n",
      "Requirement already satisfied: altair<6,>=4.0 in c:\\users\\ashfa\\appdata\\roaming\\python\\python311\\site-packages (from streamlit) (5.4.1)\n",
      "Requirement already satisfied: blinker<2,>=1.0.0 in c:\\users\\ashfa\\appdata\\roaming\\python\\python311\\site-packages (from streamlit) (1.9.0)\n",
      "Requirement already satisfied: cachetools<6,>=4.0 in c:\\users\\ashfa\\appdata\\roaming\\python\\python311\\site-packages (from streamlit) (5.5.0)\n",
      "Requirement already satisfied: click<9,>=7.0 in c:\\users\\ashfa\\appdata\\roaming\\python\\python311\\site-packages (from streamlit) (8.1.7)\n",
      "Requirement already satisfied: numpy<3,>=1.20 in c:\\users\\ashfa\\appdata\\roaming\\python\\python311\\site-packages (from streamlit) (2.1.3)\n",
      "Requirement already satisfied: packaging<25,>=20 in c:\\users\\ashfa\\appdata\\roaming\\python\\python311\\site-packages (from streamlit) (24.2)\n",
      "Requirement already satisfied: pandas<3,>=1.4.0 in c:\\users\\ashfa\\appdata\\roaming\\python\\python311\\site-packages (from streamlit) (2.2.3)\n",
      "Requirement already satisfied: pillow<12,>=7.1.0 in c:\\users\\ashfa\\appdata\\roaming\\python\\python311\\site-packages (from streamlit) (11.0.0)\n",
      "Requirement already satisfied: protobuf<6,>=3.20 in c:\\users\\ashfa\\appdata\\roaming\\python\\python311\\site-packages (from streamlit) (5.28.3)\n",
      "Requirement already satisfied: pyarrow>=7.0 in c:\\users\\ashfa\\appdata\\roaming\\python\\python311\\site-packages (from streamlit) (18.0.0)\n",
      "Requirement already satisfied: requests<3,>=2.27 in c:\\users\\ashfa\\appdata\\roaming\\python\\python311\\site-packages (from streamlit) (2.32.3)\n",
      "Requirement already satisfied: rich<14,>=10.14.0 in c:\\users\\ashfa\\appdata\\roaming\\python\\python311\\site-packages (from streamlit) (13.9.4)\n",
      "Requirement already satisfied: tenacity<10,>=8.1.0 in c:\\users\\ashfa\\appdata\\roaming\\python\\python311\\site-packages (from streamlit) (9.0.0)\n",
      "Requirement already satisfied: toml<2,>=0.10.1 in c:\\users\\ashfa\\appdata\\roaming\\python\\python311\\site-packages (from streamlit) (0.10.2)\n",
      "Requirement already satisfied: typing-extensions<5,>=4.3.0 in c:\\users\\ashfa\\appdata\\roaming\\python\\python311\\site-packages (from streamlit) (4.12.2)\n",
      "Requirement already satisfied: gitpython!=3.1.19,<4,>=3.0.7 in c:\\users\\ashfa\\appdata\\roaming\\python\\python311\\site-packages (from streamlit) (3.1.43)\n",
      "Requirement already satisfied: pydeck<1,>=0.8.0b4 in c:\\users\\ashfa\\appdata\\roaming\\python\\python311\\site-packages (from streamlit) (0.9.1)\n",
      "Requirement already satisfied: tornado<7,>=6.0.3 in c:\\users\\ashfa\\appdata\\roaming\\python\\python311\\site-packages (from streamlit) (6.4.1)\n",
      "Requirement already satisfied: watchdog<7,>=2.1.5 in c:\\users\\ashfa\\appdata\\roaming\\python\\python311\\site-packages (from streamlit) (6.0.0)\n",
      "Requirement already satisfied: jinja2 in c:\\users\\ashfa\\appdata\\roaming\\python\\python311\\site-packages (from altair<6,>=4.0->streamlit) (3.1.4)\n",
      "Requirement already satisfied: jsonschema>=3.0 in c:\\users\\ashfa\\appdata\\roaming\\python\\python311\\site-packages (from altair<6,>=4.0->streamlit) (4.23.0)\n",
      "Requirement already satisfied: narwhals>=1.5.2 in c:\\users\\ashfa\\appdata\\roaming\\python\\python311\\site-packages (from altair<6,>=4.0->streamlit) (1.14.1)\n",
      "Requirement already satisfied: colorama in c:\\users\\ashfa\\appdata\\roaming\\python\\python311\\site-packages (from click<9,>=7.0->streamlit) (0.4.6)\n",
      "Requirement already satisfied: gitdb<5,>=4.0.1 in c:\\users\\ashfa\\appdata\\roaming\\python\\python311\\site-packages (from gitpython!=3.1.19,<4,>=3.0.7->streamlit) (4.0.11)\n",
      "Requirement already satisfied: python-dateutil>=2.8.2 in c:\\users\\ashfa\\appdata\\roaming\\python\\python311\\site-packages (from pandas<3,>=1.4.0->streamlit) (2.9.0.post0)\n",
      "Requirement already satisfied: pytz>=2020.1 in c:\\users\\ashfa\\appdata\\roaming\\python\\python311\\site-packages (from pandas<3,>=1.4.0->streamlit) (2024.2)\n",
      "Requirement already satisfied: tzdata>=2022.7 in c:\\users\\ashfa\\appdata\\roaming\\python\\python311\\site-packages (from pandas<3,>=1.4.0->streamlit) (2024.2)\n",
      "Requirement already satisfied: charset-normalizer<4,>=2 in c:\\users\\ashfa\\appdata\\roaming\\python\\python311\\site-packages (from requests<3,>=2.27->streamlit) (3.4.0)\n",
      "Requirement already satisfied: idna<4,>=2.5 in c:\\users\\ashfa\\appdata\\roaming\\python\\python311\\site-packages (from requests<3,>=2.27->streamlit) (3.10)\n",
      "Requirement already satisfied: urllib3<3,>=1.21.1 in c:\\users\\ashfa\\appdata\\roaming\\python\\python311\\site-packages (from requests<3,>=2.27->streamlit) (2.2.3)\n",
      "Requirement already satisfied: certifi>=2017.4.17 in c:\\users\\ashfa\\appdata\\roaming\\python\\python311\\site-packages (from requests<3,>=2.27->streamlit) (2024.8.30)\n",
      "Requirement already satisfied: markdown-it-py>=2.2.0 in c:\\users\\ashfa\\appdata\\roaming\\python\\python311\\site-packages (from rich<14,>=10.14.0->streamlit) (3.0.0)\n",
      "Requirement already satisfied: pygments<3.0.0,>=2.13.0 in c:\\users\\ashfa\\appdata\\roaming\\python\\python311\\site-packages (from rich<14,>=10.14.0->streamlit) (2.18.0)\n",
      "Requirement already satisfied: smmap<6,>=3.0.1 in c:\\users\\ashfa\\appdata\\roaming\\python\\python311\\site-packages (from gitdb<5,>=4.0.1->gitpython!=3.1.19,<4,>=3.0.7->streamlit) (5.0.1)\n",
      "Requirement already satisfied: MarkupSafe>=2.0 in c:\\users\\ashfa\\appdata\\roaming\\python\\python311\\site-packages (from jinja2->altair<6,>=4.0->streamlit) (3.0.2)\n",
      "Requirement already satisfied: attrs>=22.2.0 in c:\\users\\ashfa\\appdata\\roaming\\python\\python311\\site-packages (from jsonschema>=3.0->altair<6,>=4.0->streamlit) (24.2.0)\n",
      "Requirement already satisfied: jsonschema-specifications>=2023.03.6 in c:\\users\\ashfa\\appdata\\roaming\\python\\python311\\site-packages (from jsonschema>=3.0->altair<6,>=4.0->streamlit) (2024.10.1)\n",
      "Requirement already satisfied: referencing>=0.28.4 in c:\\users\\ashfa\\appdata\\roaming\\python\\python311\\site-packages (from jsonschema>=3.0->altair<6,>=4.0->streamlit) (0.35.1)\n",
      "Requirement already satisfied: rpds-py>=0.7.1 in c:\\users\\ashfa\\appdata\\roaming\\python\\python311\\site-packages (from jsonschema>=3.0->altair<6,>=4.0->streamlit) (0.21.0)\n",
      "Requirement already satisfied: mdurl~=0.1 in c:\\users\\ashfa\\appdata\\roaming\\python\\python311\\site-packages (from markdown-it-py>=2.2.0->rich<14,>=10.14.0->streamlit) (0.1.2)\n",
      "Requirement already satisfied: six>=1.5 in c:\\users\\ashfa\\appdata\\roaming\\python\\python311\\site-packages (from python-dateutil>=2.8.2->pandas<3,>=1.4.0->streamlit) (1.16.0)\n",
      "Note: you may need to restart the kernel to use updated packages.\n"
     ]
    },
    {
     "name": "stderr",
     "output_type": "stream",
     "text": [
      "\n",
      "[notice] A new release of pip is available: 24.0 -> 24.3.1\n",
      "[notice] To update, run: python.exe -m pip install --upgrade pip\n"
     ]
    }
   ],
   "source": [
    "pip install streamlit"
   ]
  },
  {
   "cell_type": "code",
   "execution_count": 4,
   "metadata": {
    "id": "QG4t6HwNz0rr"
   },
   "outputs": [],
   "source": [
    "import pandas as pd\n",
    "import numpy as np\n",
    "\n",
    "from sklearn.model_selection import train_test_split\n",
    "from sklearn.linear_model import LinearRegression"
   ]
  },
  {
   "cell_type": "code",
   "execution_count": 9,
   "metadata": {
    "colab": {
     "base_uri": "https://localhost:8080/",
     "height": 278
    },
    "id": "LFKnd5hyz0t_",
    "outputId": "99d38754-23b4-4055-a0af-9b41d8a5a11a"
   },
   "outputs": [
    {
     "data": {
      "text/html": [
       "<div>\n",
       "<style scoped>\n",
       "    .dataframe tbody tr th:only-of-type {\n",
       "        vertical-align: middle;\n",
       "    }\n",
       "\n",
       "    .dataframe tbody tr th {\n",
       "        vertical-align: top;\n",
       "    }\n",
       "\n",
       "    .dataframe thead th {\n",
       "        text-align: right;\n",
       "    }\n",
       "</style>\n",
       "<table border=\"1\" class=\"dataframe\">\n",
       "  <thead>\n",
       "    <tr style=\"text-align: right;\">\n",
       "      <th></th>\n",
       "      <th>symboling</th>\n",
       "      <th>CarName</th>\n",
       "      <th>fueltype</th>\n",
       "      <th>carbody</th>\n",
       "      <th>drivewheel</th>\n",
       "      <th>enginelocation</th>\n",
       "      <th>citympg</th>\n",
       "      <th>highwaympg</th>\n",
       "      <th>wheelbase</th>\n",
       "      <th>carlength</th>\n",
       "      <th>carwidth</th>\n",
       "      <th>carheight</th>\n",
       "      <th>curbweight</th>\n",
       "      <th>enginetype</th>\n",
       "      <th>cylindernumber</th>\n",
       "      <th>enginesize</th>\n",
       "      <th>stroke</th>\n",
       "      <th>horsepower</th>\n",
       "      <th>peakrpm</th>\n",
       "      <th>price</th>\n",
       "    </tr>\n",
       "  </thead>\n",
       "  <tbody>\n",
       "    <tr>\n",
       "      <th>0</th>\n",
       "      <td>3</td>\n",
       "      <td>alfa-romero giulia</td>\n",
       "      <td>gas</td>\n",
       "      <td>convertible</td>\n",
       "      <td>rwd</td>\n",
       "      <td>front</td>\n",
       "      <td>21</td>\n",
       "      <td>27</td>\n",
       "      <td>88.6</td>\n",
       "      <td>168.8</td>\n",
       "      <td>64.1</td>\n",
       "      <td>48.8</td>\n",
       "      <td>2548</td>\n",
       "      <td>dohc</td>\n",
       "      <td>four</td>\n",
       "      <td>130</td>\n",
       "      <td>2.68</td>\n",
       "      <td>111</td>\n",
       "      <td>5000</td>\n",
       "      <td>13495.0</td>\n",
       "    </tr>\n",
       "    <tr>\n",
       "      <th>1</th>\n",
       "      <td>3</td>\n",
       "      <td>alfa-romero stelvio</td>\n",
       "      <td>gas</td>\n",
       "      <td>convertible</td>\n",
       "      <td>rwd</td>\n",
       "      <td>front</td>\n",
       "      <td>21</td>\n",
       "      <td>27</td>\n",
       "      <td>88.6</td>\n",
       "      <td>168.8</td>\n",
       "      <td>64.1</td>\n",
       "      <td>48.8</td>\n",
       "      <td>2548</td>\n",
       "      <td>dohc</td>\n",
       "      <td>four</td>\n",
       "      <td>130</td>\n",
       "      <td>2.68</td>\n",
       "      <td>111</td>\n",
       "      <td>5000</td>\n",
       "      <td>16500.0</td>\n",
       "    </tr>\n",
       "    <tr>\n",
       "      <th>2</th>\n",
       "      <td>1</td>\n",
       "      <td>alfa-romero Quadrifoglio</td>\n",
       "      <td>gas</td>\n",
       "      <td>hatchback</td>\n",
       "      <td>rwd</td>\n",
       "      <td>front</td>\n",
       "      <td>19</td>\n",
       "      <td>26</td>\n",
       "      <td>94.5</td>\n",
       "      <td>171.2</td>\n",
       "      <td>65.5</td>\n",
       "      <td>52.4</td>\n",
       "      <td>2823</td>\n",
       "      <td>ohcv</td>\n",
       "      <td>six</td>\n",
       "      <td>152</td>\n",
       "      <td>3.47</td>\n",
       "      <td>154</td>\n",
       "      <td>5000</td>\n",
       "      <td>16500.0</td>\n",
       "    </tr>\n",
       "    <tr>\n",
       "      <th>3</th>\n",
       "      <td>2</td>\n",
       "      <td>audi 100 ls</td>\n",
       "      <td>gas</td>\n",
       "      <td>sedan</td>\n",
       "      <td>fwd</td>\n",
       "      <td>front</td>\n",
       "      <td>24</td>\n",
       "      <td>30</td>\n",
       "      <td>99.8</td>\n",
       "      <td>176.6</td>\n",
       "      <td>66.2</td>\n",
       "      <td>54.3</td>\n",
       "      <td>2337</td>\n",
       "      <td>ohc</td>\n",
       "      <td>four</td>\n",
       "      <td>109</td>\n",
       "      <td>3.40</td>\n",
       "      <td>102</td>\n",
       "      <td>5500</td>\n",
       "      <td>13950.0</td>\n",
       "    </tr>\n",
       "    <tr>\n",
       "      <th>4</th>\n",
       "      <td>2</td>\n",
       "      <td>audi 100ls</td>\n",
       "      <td>gas</td>\n",
       "      <td>sedan</td>\n",
       "      <td>4wd</td>\n",
       "      <td>front</td>\n",
       "      <td>18</td>\n",
       "      <td>22</td>\n",
       "      <td>99.4</td>\n",
       "      <td>176.6</td>\n",
       "      <td>66.4</td>\n",
       "      <td>54.3</td>\n",
       "      <td>2824</td>\n",
       "      <td>ohc</td>\n",
       "      <td>five</td>\n",
       "      <td>136</td>\n",
       "      <td>3.40</td>\n",
       "      <td>115</td>\n",
       "      <td>5500</td>\n",
       "      <td>17450.0</td>\n",
       "    </tr>\n",
       "  </tbody>\n",
       "</table>\n",
       "</div>"
      ],
      "text/plain": [
       "   symboling                   CarName fueltype      carbody drivewheel  \\\n",
       "0          3        alfa-romero giulia      gas  convertible        rwd   \n",
       "1          3       alfa-romero stelvio      gas  convertible        rwd   \n",
       "2          1  alfa-romero Quadrifoglio      gas    hatchback        rwd   \n",
       "3          2               audi 100 ls      gas        sedan        fwd   \n",
       "4          2                audi 100ls      gas        sedan        4wd   \n",
       "\n",
       "  enginelocation  citympg  highwaympg  wheelbase  carlength  carwidth  \\\n",
       "0          front       21          27       88.6      168.8      64.1   \n",
       "1          front       21          27       88.6      168.8      64.1   \n",
       "2          front       19          26       94.5      171.2      65.5   \n",
       "3          front       24          30       99.8      176.6      66.2   \n",
       "4          front       18          22       99.4      176.6      66.4   \n",
       "\n",
       "   carheight  curbweight enginetype cylindernumber  enginesize  stroke  \\\n",
       "0       48.8        2548       dohc           four         130    2.68   \n",
       "1       48.8        2548       dohc           four         130    2.68   \n",
       "2       52.4        2823       ohcv            six         152    3.47   \n",
       "3       54.3        2337        ohc           four         109    3.40   \n",
       "4       54.3        2824        ohc           five         136    3.40   \n",
       "\n",
       "   horsepower  peakrpm    price  \n",
       "0         111     5000  13495.0  \n",
       "1         111     5000  16500.0  \n",
       "2         154     5000  16500.0  \n",
       "3         102     5500  13950.0  \n",
       "4         115     5500  17450.0  "
      ]
     },
     "execution_count": 9,
     "metadata": {},
     "output_type": "execute_result"
    }
   ],
   "source": [
    "cars= pd.read_csv('C:/Users/ashfa/Desktop/car/car data.csv')\n",
    "cars.head(5)"
   ]
  },
  {
   "cell_type": "code",
   "execution_count": 10,
   "metadata": {
    "colab": {
     "base_uri": "https://localhost:8080/"
    },
    "id": "FtC5jWuvz0wW",
    "outputId": "737137de-21a2-4912-eecd-4458792d59f0"
   },
   "outputs": [
    {
     "data": {
      "text/plain": [
       "(205, 20)"
      ]
     },
     "execution_count": 10,
     "metadata": {},
     "output_type": "execute_result"
    }
   ],
   "source": [
    "cars.shape"
   ]
  },
  {
   "cell_type": "code",
   "execution_count": 11,
   "metadata": {
    "colab": {
     "base_uri": "https://localhost:8080/",
     "height": 711
    },
    "id": "yeRbb8Qwz0zt",
    "outputId": "2a672bd3-278c-4a20-f794-89f904c0ad5b"
   },
   "outputs": [
    {
     "data": {
      "text/plain": [
       "symboling         0\n",
       "CarName           0\n",
       "fueltype          0\n",
       "carbody           0\n",
       "drivewheel        0\n",
       "enginelocation    0\n",
       "citympg           0\n",
       "highwaympg        0\n",
       "wheelbase         0\n",
       "carlength         0\n",
       "carwidth          0\n",
       "carheight         0\n",
       "curbweight        0\n",
       "enginetype        0\n",
       "cylindernumber    0\n",
       "enginesize        0\n",
       "stroke            0\n",
       "horsepower        0\n",
       "peakrpm           0\n",
       "price             0\n",
       "dtype: int64"
      ]
     },
     "execution_count": 11,
     "metadata": {},
     "output_type": "execute_result"
    }
   ],
   "source": [
    "#preprocessing\n",
    "\n",
    "#checking null values\n",
    "\n",
    "cars.isnull().sum()"
   ]
  },
  {
   "cell_type": "code",
   "execution_count": 12,
   "metadata": {
    "id": "PiTq0ejM3n9F"
   },
   "outputs": [],
   "source": [
    "cars.dropna(inplace=True)"
   ]
  },
  {
   "cell_type": "code",
   "execution_count": 13,
   "metadata": {
    "colab": {
     "base_uri": "https://localhost:8080/"
    },
    "id": "x_JOe2e33oIa",
    "outputId": "5cecaefb-8c8b-43ee-c22f-b494b9e2fe5f"
   },
   "outputs": [
    {
     "data": {
      "text/plain": [
       "(205, 20)"
      ]
     },
     "execution_count": 13,
     "metadata": {},
     "output_type": "execute_result"
    }
   ],
   "source": [
    "cars.shape"
   ]
  },
  {
   "cell_type": "code",
   "execution_count": 14,
   "metadata": {
    "colab": {
     "base_uri": "https://localhost:8080/"
    },
    "id": "39JjO0Q_3oLC",
    "outputId": "e4a7a24f-56d1-4ecb-db6e-42b1741f0c0e"
   },
   "outputs": [
    {
     "data": {
      "text/plain": [
       "np.int64(0)"
      ]
     },
     "execution_count": 14,
     "metadata": {},
     "output_type": "execute_result"
    }
   ],
   "source": [
    "#checking duplicate values\n",
    "\n",
    "cars.duplicated().sum()"
   ]
  },
  {
   "cell_type": "code",
   "execution_count": 15,
   "metadata": {
    "colab": {
     "base_uri": "https://localhost:8080/"
    },
    "id": "U36mtDV43oM_",
    "outputId": "3d86fcd9-38b1-497c-d825-106a6dc8ba2b"
   },
   "outputs": [
    {
     "name": "stdout",
     "output_type": "stream",
     "text": [
      "<class 'pandas.core.frame.DataFrame'>\n",
      "RangeIndex: 205 entries, 0 to 204\n",
      "Data columns (total 20 columns):\n",
      " #   Column          Non-Null Count  Dtype  \n",
      "---  ------          --------------  -----  \n",
      " 0   symboling       205 non-null    int64  \n",
      " 1   CarName         205 non-null    object \n",
      " 2   fueltype        205 non-null    object \n",
      " 3   carbody         205 non-null    object \n",
      " 4   drivewheel      205 non-null    object \n",
      " 5   enginelocation  205 non-null    object \n",
      " 6   citympg         205 non-null    int64  \n",
      " 7   highwaympg      205 non-null    int64  \n",
      " 8   wheelbase       205 non-null    float64\n",
      " 9   carlength       205 non-null    float64\n",
      " 10  carwidth        205 non-null    float64\n",
      " 11  carheight       205 non-null    float64\n",
      " 12  curbweight      205 non-null    int64  \n",
      " 13  enginetype      205 non-null    object \n",
      " 14  cylindernumber  205 non-null    object \n",
      " 15  enginesize      205 non-null    int64  \n",
      " 16  stroke          205 non-null    float64\n",
      " 17  horsepower      205 non-null    int64  \n",
      " 18  peakrpm         205 non-null    int64  \n",
      " 19  price           205 non-null    float64\n",
      "dtypes: float64(6), int64(7), object(7)\n",
      "memory usage: 32.2+ KB\n"
     ]
    }
   ],
   "source": [
    "cars.info()"
   ]
  },
  {
   "cell_type": "code",
   "execution_count": 16,
   "metadata": {
    "colab": {
     "base_uri": "https://localhost:8080/"
    },
    "id": "F-NNUjH74lXc",
    "outputId": "1833aa20-9b11-4b5e-c514-b206ede1250a"
   },
   "outputs": [
    {
     "name": "stdout",
     "output_type": "stream",
     "text": [
      "unique values ofsymboling\n",
      "<bound method Series.unique of 0      3\n",
      "1      3\n",
      "2      1\n",
      "3      2\n",
      "4      2\n",
      "      ..\n",
      "200   -1\n",
      "201   -1\n",
      "202   -1\n",
      "203   -1\n",
      "204   -1\n",
      "Name: symboling, Length: 205, dtype: int64>\n",
      "========================\n",
      "\n",
      "unique values ofCarName\n",
      "<bound method Series.unique of 0            alfa-romero giulia\n",
      "1           alfa-romero stelvio\n",
      "2      alfa-romero Quadrifoglio\n",
      "3                   audi 100 ls\n",
      "4                    audi 100ls\n",
      "                 ...           \n",
      "200             volvo 145e (sw)\n",
      "201                 volvo 144ea\n",
      "202                 volvo 244dl\n",
      "203                   volvo 246\n",
      "204                 volvo 264gl\n",
      "Name: CarName, Length: 205, dtype: object>\n",
      "========================\n",
      "\n",
      "unique values offueltype\n",
      "<bound method Series.unique of 0         gas\n",
      "1         gas\n",
      "2         gas\n",
      "3         gas\n",
      "4         gas\n",
      "        ...  \n",
      "200       gas\n",
      "201       gas\n",
      "202       gas\n",
      "203    diesel\n",
      "204       gas\n",
      "Name: fueltype, Length: 205, dtype: object>\n",
      "========================\n",
      "\n",
      "unique values ofcarbody\n",
      "<bound method Series.unique of 0      convertible\n",
      "1      convertible\n",
      "2        hatchback\n",
      "3            sedan\n",
      "4            sedan\n",
      "          ...     \n",
      "200          sedan\n",
      "201          sedan\n",
      "202          sedan\n",
      "203          sedan\n",
      "204          sedan\n",
      "Name: carbody, Length: 205, dtype: object>\n",
      "========================\n",
      "\n",
      "unique values ofdrivewheel\n",
      "<bound method Series.unique of 0      rwd\n",
      "1      rwd\n",
      "2      rwd\n",
      "3      fwd\n",
      "4      4wd\n",
      "      ... \n",
      "200    rwd\n",
      "201    rwd\n",
      "202    rwd\n",
      "203    rwd\n",
      "204    rwd\n",
      "Name: drivewheel, Length: 205, dtype: object>\n",
      "========================\n",
      "\n",
      "unique values ofenginelocation\n",
      "<bound method Series.unique of 0      front\n",
      "1      front\n",
      "2      front\n",
      "3      front\n",
      "4      front\n",
      "       ...  \n",
      "200    front\n",
      "201    front\n",
      "202    front\n",
      "203    front\n",
      "204    front\n",
      "Name: enginelocation, Length: 205, dtype: object>\n",
      "========================\n",
      "\n",
      "unique values ofcitympg\n",
      "<bound method Series.unique of 0      21\n",
      "1      21\n",
      "2      19\n",
      "3      24\n",
      "4      18\n",
      "       ..\n",
      "200    23\n",
      "201    19\n",
      "202    18\n",
      "203    26\n",
      "204    19\n",
      "Name: citympg, Length: 205, dtype: int64>\n",
      "========================\n",
      "\n",
      "unique values ofhighwaympg\n",
      "<bound method Series.unique of 0      27\n",
      "1      27\n",
      "2      26\n",
      "3      30\n",
      "4      22\n",
      "       ..\n",
      "200    28\n",
      "201    25\n",
      "202    23\n",
      "203    27\n",
      "204    25\n",
      "Name: highwaympg, Length: 205, dtype: int64>\n",
      "========================\n",
      "\n",
      "unique values ofwheelbase\n",
      "<bound method Series.unique of 0       88.6\n",
      "1       88.6\n",
      "2       94.5\n",
      "3       99.8\n",
      "4       99.4\n",
      "       ...  \n",
      "200    109.1\n",
      "201    109.1\n",
      "202    109.1\n",
      "203    109.1\n",
      "204    109.1\n",
      "Name: wheelbase, Length: 205, dtype: float64>\n",
      "========================\n",
      "\n",
      "unique values ofcarlength\n",
      "<bound method Series.unique of 0      168.8\n",
      "1      168.8\n",
      "2      171.2\n",
      "3      176.6\n",
      "4      176.6\n",
      "       ...  \n",
      "200    188.8\n",
      "201    188.8\n",
      "202    188.8\n",
      "203    188.8\n",
      "204    188.8\n",
      "Name: carlength, Length: 205, dtype: float64>\n",
      "========================\n",
      "\n",
      "unique values ofcarwidth\n",
      "<bound method Series.unique of 0      64.1\n",
      "1      64.1\n",
      "2      65.5\n",
      "3      66.2\n",
      "4      66.4\n",
      "       ... \n",
      "200    68.9\n",
      "201    68.8\n",
      "202    68.9\n",
      "203    68.9\n",
      "204    68.9\n",
      "Name: carwidth, Length: 205, dtype: float64>\n",
      "========================\n",
      "\n",
      "unique values ofcarheight\n",
      "<bound method Series.unique of 0      48.8\n",
      "1      48.8\n",
      "2      52.4\n",
      "3      54.3\n",
      "4      54.3\n",
      "       ... \n",
      "200    55.5\n",
      "201    55.5\n",
      "202    55.5\n",
      "203    55.5\n",
      "204    55.5\n",
      "Name: carheight, Length: 205, dtype: float64>\n",
      "========================\n",
      "\n",
      "unique values ofcurbweight\n",
      "<bound method Series.unique of 0      2548\n",
      "1      2548\n",
      "2      2823\n",
      "3      2337\n",
      "4      2824\n",
      "       ... \n",
      "200    2952\n",
      "201    3049\n",
      "202    3012\n",
      "203    3217\n",
      "204    3062\n",
      "Name: curbweight, Length: 205, dtype: int64>\n",
      "========================\n",
      "\n",
      "unique values ofenginetype\n",
      "<bound method Series.unique of 0      dohc\n",
      "1      dohc\n",
      "2      ohcv\n",
      "3       ohc\n",
      "4       ohc\n",
      "       ... \n",
      "200     ohc\n",
      "201     ohc\n",
      "202    ohcv\n",
      "203     ohc\n",
      "204     ohc\n",
      "Name: enginetype, Length: 205, dtype: object>\n",
      "========================\n",
      "\n",
      "unique values ofcylindernumber\n",
      "<bound method Series.unique of 0      four\n",
      "1      four\n",
      "2       six\n",
      "3      four\n",
      "4      five\n",
      "       ... \n",
      "200    four\n",
      "201    four\n",
      "202     six\n",
      "203     six\n",
      "204    four\n",
      "Name: cylindernumber, Length: 205, dtype: object>\n",
      "========================\n",
      "\n",
      "unique values ofenginesize\n",
      "<bound method Series.unique of 0      130\n",
      "1      130\n",
      "2      152\n",
      "3      109\n",
      "4      136\n",
      "      ... \n",
      "200    141\n",
      "201    141\n",
      "202    173\n",
      "203    145\n",
      "204    141\n",
      "Name: enginesize, Length: 205, dtype: int64>\n",
      "========================\n",
      "\n",
      "unique values ofstroke\n",
      "<bound method Series.unique of 0      2.68\n",
      "1      2.68\n",
      "2      3.47\n",
      "3      3.40\n",
      "4      3.40\n",
      "       ... \n",
      "200    3.15\n",
      "201    3.15\n",
      "202    2.87\n",
      "203    3.40\n",
      "204    3.15\n",
      "Name: stroke, Length: 205, dtype: float64>\n",
      "========================\n",
      "\n",
      "unique values ofhorsepower\n",
      "<bound method Series.unique of 0      111\n",
      "1      111\n",
      "2      154\n",
      "3      102\n",
      "4      115\n",
      "      ... \n",
      "200    114\n",
      "201    160\n",
      "202    134\n",
      "203    106\n",
      "204    114\n",
      "Name: horsepower, Length: 205, dtype: int64>\n",
      "========================\n",
      "\n",
      "unique values ofpeakrpm\n",
      "<bound method Series.unique of 0      5000\n",
      "1      5000\n",
      "2      5000\n",
      "3      5500\n",
      "4      5500\n",
      "       ... \n",
      "200    5400\n",
      "201    5300\n",
      "202    5500\n",
      "203    4800\n",
      "204    5400\n",
      "Name: peakrpm, Length: 205, dtype: int64>\n",
      "========================\n",
      "\n",
      "unique values ofprice\n",
      "<bound method Series.unique of 0      13495.0\n",
      "1      16500.0\n",
      "2      16500.0\n",
      "3      13950.0\n",
      "4      17450.0\n",
      "        ...   \n",
      "200    16845.0\n",
      "201    19045.0\n",
      "202    21485.0\n",
      "203    22470.0\n",
      "204    22625.0\n",
      "Name: price, Length: 205, dtype: float64>\n",
      "========================\n",
      "\n"
     ]
    }
   ],
   "source": [
    "#Data Analysis\n",
    "\n",
    "for col in cars.columns:\n",
    "  print('unique values of' + col)\n",
    "  print(cars[col].unique)\n",
    "  print('========================\\n')"
   ]
  },
  {
   "cell_type": "code",
   "execution_count": 17,
   "metadata": {
    "id": "esGHMCtl4QoW"
   },
   "outputs": [],
   "source": [
    "def get_brand_name(car_name):\n",
    "  car_name=car_name.split(' ')[0]\n",
    "  return car_name.strip(' ')"
   ]
  },
  {
   "cell_type": "code",
   "execution_count": 18,
   "metadata": {
    "colab": {
     "base_uri": "https://localhost:8080/",
     "height": 36
    },
    "id": "b_KXR0Yk4Qqw",
    "outputId": "c2c0a0ce-6731-47d5-fef0-5e5ff7da295d"
   },
   "outputs": [
    {
     "data": {
      "text/plain": [
       "'alfa-romero'"
      ]
     },
     "execution_count": 18,
     "metadata": {},
     "output_type": "execute_result"
    }
   ],
   "source": [
    "get_brand_name('alfa-romero stelvio')"
   ]
  },
  {
   "cell_type": "code",
   "execution_count": 19,
   "metadata": {
    "colab": {
     "base_uri": "https://localhost:8080/"
    },
    "id": "HOcqLbqU4QvM",
    "outputId": "bb65aa63-5df5-4ff4-e853-ed23e48757cd"
   },
   "outputs": [
    {
     "data": {
      "text/plain": [
       "array(['alfa-romero', 'audi', 'bmw', 'chevrolet', 'dodge', 'honda',\n",
       "       'isuzu', 'jaguar', 'maxda', 'mazda', 'buick', 'mercury',\n",
       "       'mitsubishi', 'Nissan', 'nissan', 'peugeot', 'plymouth', 'porsche',\n",
       "       'porcshce', 'renault', 'saab', 'subaru', 'toyota', 'toyouta',\n",
       "       'vokswagen', 'volkswagen', 'vw', 'volvo'], dtype=object)"
      ]
     },
     "execution_count": 19,
     "metadata": {},
     "output_type": "execute_result"
    }
   ],
   "source": [
    "cars['CarName']=cars['CarName'].apply(get_brand_name)\n",
    "\n",
    "cars['CarName'].unique()"
   ]
  },
  {
   "cell_type": "code",
   "execution_count": 20,
   "metadata": {
    "id": "ooirRfbM4Qxf"
   },
   "outputs": [],
   "source": [
    "cars['fueltype']=cars['fueltype'].apply(get_brand_name)"
   ]
  },
  {
   "cell_type": "code",
   "execution_count": 21,
   "metadata": {
    "id": "Glw4Fpno4Q0G"
   },
   "outputs": [],
   "source": [
    "cars['enginetype']=cars['enginetype'].apply(get_brand_name)"
   ]
  },
  {
   "cell_type": "code",
   "execution_count": 22,
   "metadata": {
    "id": "VDY_Y8SB4Q2c"
   },
   "outputs": [],
   "source": [
    "cars['enginelocation']=cars['enginelocation'].apply(get_brand_name)"
   ]
  },
  {
   "cell_type": "code",
   "execution_count": 23,
   "metadata": {
    "colab": {
     "base_uri": "https://localhost:8080/"
    },
    "id": "42fQXU5d4Q4q",
    "outputId": "98b7d3a9-9a34-4287-d243-1fa8ec41aa92"
   },
   "outputs": [
    {
     "name": "stdout",
     "output_type": "stream",
     "text": [
      "unique values ofsymboling\n",
      "<bound method Series.unique of 0      3\n",
      "1      3\n",
      "2      1\n",
      "3      2\n",
      "4      2\n",
      "      ..\n",
      "200   -1\n",
      "201   -1\n",
      "202   -1\n",
      "203   -1\n",
      "204   -1\n",
      "Name: symboling, Length: 205, dtype: int64>\n",
      "========================\n",
      "\n",
      "unique values ofCarName\n",
      "<bound method Series.unique of 0      alfa-romero\n",
      "1      alfa-romero\n",
      "2      alfa-romero\n",
      "3             audi\n",
      "4             audi\n",
      "          ...     \n",
      "200          volvo\n",
      "201          volvo\n",
      "202          volvo\n",
      "203          volvo\n",
      "204          volvo\n",
      "Name: CarName, Length: 205, dtype: object>\n",
      "========================\n",
      "\n",
      "unique values offueltype\n",
      "<bound method Series.unique of 0         gas\n",
      "1         gas\n",
      "2         gas\n",
      "3         gas\n",
      "4         gas\n",
      "        ...  \n",
      "200       gas\n",
      "201       gas\n",
      "202       gas\n",
      "203    diesel\n",
      "204       gas\n",
      "Name: fueltype, Length: 205, dtype: object>\n",
      "========================\n",
      "\n",
      "unique values ofcarbody\n",
      "<bound method Series.unique of 0      convertible\n",
      "1      convertible\n",
      "2        hatchback\n",
      "3            sedan\n",
      "4            sedan\n",
      "          ...     \n",
      "200          sedan\n",
      "201          sedan\n",
      "202          sedan\n",
      "203          sedan\n",
      "204          sedan\n",
      "Name: carbody, Length: 205, dtype: object>\n",
      "========================\n",
      "\n",
      "unique values ofdrivewheel\n",
      "<bound method Series.unique of 0      rwd\n",
      "1      rwd\n",
      "2      rwd\n",
      "3      fwd\n",
      "4      4wd\n",
      "      ... \n",
      "200    rwd\n",
      "201    rwd\n",
      "202    rwd\n",
      "203    rwd\n",
      "204    rwd\n",
      "Name: drivewheel, Length: 205, dtype: object>\n",
      "========================\n",
      "\n",
      "unique values ofenginelocation\n",
      "<bound method Series.unique of 0      front\n",
      "1      front\n",
      "2      front\n",
      "3      front\n",
      "4      front\n",
      "       ...  \n",
      "200    front\n",
      "201    front\n",
      "202    front\n",
      "203    front\n",
      "204    front\n",
      "Name: enginelocation, Length: 205, dtype: object>\n",
      "========================\n",
      "\n",
      "unique values ofcitympg\n",
      "<bound method Series.unique of 0      21\n",
      "1      21\n",
      "2      19\n",
      "3      24\n",
      "4      18\n",
      "       ..\n",
      "200    23\n",
      "201    19\n",
      "202    18\n",
      "203    26\n",
      "204    19\n",
      "Name: citympg, Length: 205, dtype: int64>\n",
      "========================\n",
      "\n",
      "unique values ofhighwaympg\n",
      "<bound method Series.unique of 0      27\n",
      "1      27\n",
      "2      26\n",
      "3      30\n",
      "4      22\n",
      "       ..\n",
      "200    28\n",
      "201    25\n",
      "202    23\n",
      "203    27\n",
      "204    25\n",
      "Name: highwaympg, Length: 205, dtype: int64>\n",
      "========================\n",
      "\n",
      "unique values ofwheelbase\n",
      "<bound method Series.unique of 0       88.6\n",
      "1       88.6\n",
      "2       94.5\n",
      "3       99.8\n",
      "4       99.4\n",
      "       ...  \n",
      "200    109.1\n",
      "201    109.1\n",
      "202    109.1\n",
      "203    109.1\n",
      "204    109.1\n",
      "Name: wheelbase, Length: 205, dtype: float64>\n",
      "========================\n",
      "\n",
      "unique values ofcarlength\n",
      "<bound method Series.unique of 0      168.8\n",
      "1      168.8\n",
      "2      171.2\n",
      "3      176.6\n",
      "4      176.6\n",
      "       ...  \n",
      "200    188.8\n",
      "201    188.8\n",
      "202    188.8\n",
      "203    188.8\n",
      "204    188.8\n",
      "Name: carlength, Length: 205, dtype: float64>\n",
      "========================\n",
      "\n",
      "unique values ofcarwidth\n",
      "<bound method Series.unique of 0      64.1\n",
      "1      64.1\n",
      "2      65.5\n",
      "3      66.2\n",
      "4      66.4\n",
      "       ... \n",
      "200    68.9\n",
      "201    68.8\n",
      "202    68.9\n",
      "203    68.9\n",
      "204    68.9\n",
      "Name: carwidth, Length: 205, dtype: float64>\n",
      "========================\n",
      "\n",
      "unique values ofcarheight\n",
      "<bound method Series.unique of 0      48.8\n",
      "1      48.8\n",
      "2      52.4\n",
      "3      54.3\n",
      "4      54.3\n",
      "       ... \n",
      "200    55.5\n",
      "201    55.5\n",
      "202    55.5\n",
      "203    55.5\n",
      "204    55.5\n",
      "Name: carheight, Length: 205, dtype: float64>\n",
      "========================\n",
      "\n",
      "unique values ofcurbweight\n",
      "<bound method Series.unique of 0      2548\n",
      "1      2548\n",
      "2      2823\n",
      "3      2337\n",
      "4      2824\n",
      "       ... \n",
      "200    2952\n",
      "201    3049\n",
      "202    3012\n",
      "203    3217\n",
      "204    3062\n",
      "Name: curbweight, Length: 205, dtype: int64>\n",
      "========================\n",
      "\n",
      "unique values ofenginetype\n",
      "<bound method Series.unique of 0      dohc\n",
      "1      dohc\n",
      "2      ohcv\n",
      "3       ohc\n",
      "4       ohc\n",
      "       ... \n",
      "200     ohc\n",
      "201     ohc\n",
      "202    ohcv\n",
      "203     ohc\n",
      "204     ohc\n",
      "Name: enginetype, Length: 205, dtype: object>\n",
      "========================\n",
      "\n",
      "unique values ofcylindernumber\n",
      "<bound method Series.unique of 0      four\n",
      "1      four\n",
      "2       six\n",
      "3      four\n",
      "4      five\n",
      "       ... \n",
      "200    four\n",
      "201    four\n",
      "202     six\n",
      "203     six\n",
      "204    four\n",
      "Name: cylindernumber, Length: 205, dtype: object>\n",
      "========================\n",
      "\n",
      "unique values ofenginesize\n",
      "<bound method Series.unique of 0      130\n",
      "1      130\n",
      "2      152\n",
      "3      109\n",
      "4      136\n",
      "      ... \n",
      "200    141\n",
      "201    141\n",
      "202    173\n",
      "203    145\n",
      "204    141\n",
      "Name: enginesize, Length: 205, dtype: int64>\n",
      "========================\n",
      "\n",
      "unique values ofstroke\n",
      "<bound method Series.unique of 0      2.68\n",
      "1      2.68\n",
      "2      3.47\n",
      "3      3.40\n",
      "4      3.40\n",
      "       ... \n",
      "200    3.15\n",
      "201    3.15\n",
      "202    2.87\n",
      "203    3.40\n",
      "204    3.15\n",
      "Name: stroke, Length: 205, dtype: float64>\n",
      "========================\n",
      "\n",
      "unique values ofhorsepower\n",
      "<bound method Series.unique of 0      111\n",
      "1      111\n",
      "2      154\n",
      "3      102\n",
      "4      115\n",
      "      ... \n",
      "200    114\n",
      "201    160\n",
      "202    134\n",
      "203    106\n",
      "204    114\n",
      "Name: horsepower, Length: 205, dtype: int64>\n",
      "========================\n",
      "\n",
      "unique values ofpeakrpm\n",
      "<bound method Series.unique of 0      5000\n",
      "1      5000\n",
      "2      5000\n",
      "3      5500\n",
      "4      5500\n",
      "       ... \n",
      "200    5400\n",
      "201    5300\n",
      "202    5500\n",
      "203    4800\n",
      "204    5400\n",
      "Name: peakrpm, Length: 205, dtype: int64>\n",
      "========================\n",
      "\n",
      "unique values ofprice\n",
      "<bound method Series.unique of 0      13495.0\n",
      "1      16500.0\n",
      "2      16500.0\n",
      "3      13950.0\n",
      "4      17450.0\n",
      "        ...   \n",
      "200    16845.0\n",
      "201    19045.0\n",
      "202    21485.0\n",
      "203    22470.0\n",
      "204    22625.0\n",
      "Name: price, Length: 205, dtype: float64>\n",
      "========================\n",
      "\n"
     ]
    }
   ],
   "source": [
    "for col in cars.columns:\n",
    "  print('unique values of' + col)\n",
    "  print(cars[col].unique)\n",
    "  print('========================\\n')"
   ]
  },
  {
   "cell_type": "code",
   "execution_count": 24,
   "metadata": {
    "colab": {
     "base_uri": "https://localhost:8080/"
    },
    "id": "sY86CorY92pj",
    "outputId": "f9880843-d5c6-41ab-f44c-59253fbbff16"
   },
   "outputs": [
    {
     "name": "stderr",
     "output_type": "stream",
     "text": [
      "C:\\Users\\ashfa\\AppData\\Local\\Temp\\ipykernel_11016\\1183083333.py:1: FutureWarning: A value is trying to be set on a copy of a DataFrame or Series through chained assignment using an inplace method.\n",
      "The behavior will change in pandas 3.0. This inplace method will never work because the intermediate object on which we are setting values always behaves as a copy.\n",
      "\n",
      "For example, when doing 'df[col].method(value, inplace=True)', try using 'df.method({col: value}, inplace=True)' or df[col] = df[col].method(value) instead, to perform the operation inplace on the original object.\n",
      "\n",
      "\n",
      "  cars['CarName'].replace(['alfa-romero', 'audi', 'bmw', 'chevrolet', 'dodge', 'honda',\n",
      "C:\\Users\\ashfa\\AppData\\Local\\Temp\\ipykernel_11016\\1183083333.py:1: FutureWarning: Downcasting behavior in `replace` is deprecated and will be removed in a future version. To retain the old behavior, explicitly call `result.infer_objects(copy=False)`. To opt-in to the future behavior, set `pd.set_option('future.no_silent_downcasting', True)`\n",
      "  cars['CarName'].replace(['alfa-romero', 'audi', 'bmw', 'chevrolet', 'dodge', 'honda',\n"
     ]
    }
   ],
   "source": [
    "cars['CarName'].replace(['alfa-romero', 'audi', 'bmw', 'chevrolet', 'dodge', 'honda',\n",
    "       'isuzu', 'jaguar', 'maxda', 'mazda', 'buick', 'mercury',\n",
    "       'mitsubishi', 'Nissan', 'nissan', 'peugeot', 'plymouth', 'porsche',\n",
    "       'porcshce', 'renault', 'saab', 'subaru', 'toyota', 'toyouta',\n",
    "       'vokswagen', 'volkswagen', 'vw', 'volvo'],\n",
    "                       [1,2,3,4,5,6,7,8,9,10,11,12,13,14,15,16,17,18,19,20,21,22,23,24,25,26,27,28], inplace=True)"
   ]
  },
  {
   "cell_type": "code",
   "execution_count": 25,
   "metadata": {
    "colab": {
     "base_uri": "https://localhost:8080/"
    },
    "id": "3uWOXHhk4Q7W",
    "outputId": "89327cce-fbbf-4eb2-b109-b017f3593855"
   },
   "outputs": [
    {
     "data": {
      "text/plain": [
       "array(['gas', 'diesel'], dtype=object)"
      ]
     },
     "execution_count": 25,
     "metadata": {},
     "output_type": "execute_result"
    }
   ],
   "source": [
    "cars['fueltype'].unique()"
   ]
  },
  {
   "cell_type": "code",
   "execution_count": 26,
   "metadata": {
    "colab": {
     "base_uri": "https://localhost:8080/"
    },
    "id": "goJNEHu64Q9k",
    "outputId": "100e2e5d-836c-4a48-a329-824e98b48c68"
   },
   "outputs": [
    {
     "name": "stderr",
     "output_type": "stream",
     "text": [
      "C:\\Users\\ashfa\\AppData\\Local\\Temp\\ipykernel_11016\\1207601341.py:1: FutureWarning: A value is trying to be set on a copy of a DataFrame or Series through chained assignment using an inplace method.\n",
      "The behavior will change in pandas 3.0. This inplace method will never work because the intermediate object on which we are setting values always behaves as a copy.\n",
      "\n",
      "For example, when doing 'df[col].method(value, inplace=True)', try using 'df.method({col: value}, inplace=True)' or df[col] = df[col].method(value) instead, to perform the operation inplace on the original object.\n",
      "\n",
      "\n",
      "  cars['fueltype'].replace(['gas', 'diesel'], [1,2], inplace=True)\n",
      "C:\\Users\\ashfa\\AppData\\Local\\Temp\\ipykernel_11016\\1207601341.py:1: FutureWarning: Downcasting behavior in `replace` is deprecated and will be removed in a future version. To retain the old behavior, explicitly call `result.infer_objects(copy=False)`. To opt-in to the future behavior, set `pd.set_option('future.no_silent_downcasting', True)`\n",
      "  cars['fueltype'].replace(['gas', 'diesel'], [1,2], inplace=True)\n"
     ]
    }
   ],
   "source": [
    "cars['fueltype'].replace(['gas', 'diesel'], [1,2], inplace=True)"
   ]
  },
  {
   "cell_type": "code",
   "execution_count": 27,
   "metadata": {
    "colab": {
     "base_uri": "https://localhost:8080/"
    },
    "id": "kY0rtxZ04RBJ",
    "outputId": "69463e23-d9f1-4aeb-ce3c-602c49bbac4b"
   },
   "outputs": [
    {
     "data": {
      "text/plain": [
       "array(['convertible', 'hatchback', 'sedan', 'wagon', 'hardtop'],\n",
       "      dtype=object)"
      ]
     },
     "execution_count": 27,
     "metadata": {},
     "output_type": "execute_result"
    }
   ],
   "source": [
    "cars['carbody'].unique()"
   ]
  },
  {
   "cell_type": "code",
   "execution_count": 28,
   "metadata": {
    "colab": {
     "base_uri": "https://localhost:8080/"
    },
    "id": "2EquyRbK3oQY",
    "outputId": "f4c38ac3-16fc-4d57-d782-dd95f798e32b"
   },
   "outputs": [
    {
     "name": "stderr",
     "output_type": "stream",
     "text": [
      "C:\\Users\\ashfa\\AppData\\Local\\Temp\\ipykernel_11016\\3672726112.py:1: FutureWarning: A value is trying to be set on a copy of a DataFrame or Series through chained assignment using an inplace method.\n",
      "The behavior will change in pandas 3.0. This inplace method will never work because the intermediate object on which we are setting values always behaves as a copy.\n",
      "\n",
      "For example, when doing 'df[col].method(value, inplace=True)', try using 'df.method({col: value}, inplace=True)' or df[col] = df[col].method(value) instead, to perform the operation inplace on the original object.\n",
      "\n",
      "\n",
      "  cars['carbody'].replace(['convertible', 'hatchback', 'sedan', 'wagon', 'hardtop'],\n",
      "C:\\Users\\ashfa\\AppData\\Local\\Temp\\ipykernel_11016\\3672726112.py:1: FutureWarning: Downcasting behavior in `replace` is deprecated and will be removed in a future version. To retain the old behavior, explicitly call `result.infer_objects(copy=False)`. To opt-in to the future behavior, set `pd.set_option('future.no_silent_downcasting', True)`\n",
      "  cars['carbody'].replace(['convertible', 'hatchback', 'sedan', 'wagon', 'hardtop'],\n"
     ]
    }
   ],
   "source": [
    "cars['carbody'].replace(['convertible', 'hatchback', 'sedan', 'wagon', 'hardtop'],\n",
    "                          [1,2,3,4,5], inplace=True)"
   ]
  },
  {
   "cell_type": "code",
   "execution_count": 29,
   "metadata": {
    "colab": {
     "base_uri": "https://localhost:8080/"
    },
    "id": "9sNhVDJ3ZdfT",
    "outputId": "8a20bcb6-c9be-4be0-bad9-7eb08cd46d32"
   },
   "outputs": [
    {
     "data": {
      "text/plain": [
       "array(['rwd', 'fwd', '4wd'], dtype=object)"
      ]
     },
     "execution_count": 29,
     "metadata": {},
     "output_type": "execute_result"
    }
   ],
   "source": [
    "cars['drivewheel'].unique()"
   ]
  },
  {
   "cell_type": "code",
   "execution_count": 30,
   "metadata": {
    "colab": {
     "base_uri": "https://localhost:8080/"
    },
    "id": "EO_3ew2ch-Pc",
    "outputId": "15e8ea1f-5654-4af2-8c58-3c65935c0437"
   },
   "outputs": [
    {
     "name": "stderr",
     "output_type": "stream",
     "text": [
      "C:\\Users\\ashfa\\AppData\\Local\\Temp\\ipykernel_11016\\1957798917.py:1: FutureWarning: A value is trying to be set on a copy of a DataFrame or Series through chained assignment using an inplace method.\n",
      "The behavior will change in pandas 3.0. This inplace method will never work because the intermediate object on which we are setting values always behaves as a copy.\n",
      "\n",
      "For example, when doing 'df[col].method(value, inplace=True)', try using 'df.method({col: value}, inplace=True)' or df[col] = df[col].method(value) instead, to perform the operation inplace on the original object.\n",
      "\n",
      "\n",
      "  cars['drivewheel'].replace(['rwd', 'fwd', '4wd'],\n",
      "C:\\Users\\ashfa\\AppData\\Local\\Temp\\ipykernel_11016\\1957798917.py:1: FutureWarning: Downcasting behavior in `replace` is deprecated and will be removed in a future version. To retain the old behavior, explicitly call `result.infer_objects(copy=False)`. To opt-in to the future behavior, set `pd.set_option('future.no_silent_downcasting', True)`\n",
      "  cars['drivewheel'].replace(['rwd', 'fwd', '4wd'],\n"
     ]
    }
   ],
   "source": [
    "cars['drivewheel'].replace(['rwd', 'fwd', '4wd'],\n",
    "                          [1,2,3], inplace=True)"
   ]
  },
  {
   "cell_type": "code",
   "execution_count": 31,
   "metadata": {
    "colab": {
     "base_uri": "https://localhost:8080/"
    },
    "id": "i2PRp0V5iQEZ",
    "outputId": "8c15f7c9-8d03-4f4c-829e-40da53cf4fbe"
   },
   "outputs": [
    {
     "data": {
      "text/plain": [
       "array(['front', 'rear'], dtype=object)"
      ]
     },
     "execution_count": 31,
     "metadata": {},
     "output_type": "execute_result"
    }
   ],
   "source": [
    "cars['enginelocation'].unique()"
   ]
  },
  {
   "cell_type": "code",
   "execution_count": 32,
   "metadata": {
    "colab": {
     "base_uri": "https://localhost:8080/"
    },
    "id": "TEvGZZPDibyl",
    "outputId": "9503008a-ca87-4017-bd22-f8faa0516ff2"
   },
   "outputs": [
    {
     "name": "stderr",
     "output_type": "stream",
     "text": [
      "C:\\Users\\ashfa\\AppData\\Local\\Temp\\ipykernel_11016\\196713299.py:1: FutureWarning: A value is trying to be set on a copy of a DataFrame or Series through chained assignment using an inplace method.\n",
      "The behavior will change in pandas 3.0. This inplace method will never work because the intermediate object on which we are setting values always behaves as a copy.\n",
      "\n",
      "For example, when doing 'df[col].method(value, inplace=True)', try using 'df.method({col: value}, inplace=True)' or df[col] = df[col].method(value) instead, to perform the operation inplace on the original object.\n",
      "\n",
      "\n",
      "  cars['enginelocation'].replace(['front', 'rear'],\n",
      "C:\\Users\\ashfa\\AppData\\Local\\Temp\\ipykernel_11016\\196713299.py:1: FutureWarning: Downcasting behavior in `replace` is deprecated and will be removed in a future version. To retain the old behavior, explicitly call `result.infer_objects(copy=False)`. To opt-in to the future behavior, set `pd.set_option('future.no_silent_downcasting', True)`\n",
      "  cars['enginelocation'].replace(['front', 'rear'],\n"
     ]
    }
   ],
   "source": [
    "cars['enginelocation'].replace(['front', 'rear'],\n",
    "                          [1,2], inplace=True)"
   ]
  },
  {
   "cell_type": "code",
   "execution_count": 33,
   "metadata": {
    "colab": {
     "base_uri": "https://localhost:8080/"
    },
    "id": "Skd1EqmJisWt",
    "outputId": "a2f221c1-2478-4dbe-b12b-49fb0b4865a3"
   },
   "outputs": [
    {
     "data": {
      "text/plain": [
       "array(['dohc', 'ohcv', 'ohc', 'l', 'rotor', 'ohcf', 'dohcv'], dtype=object)"
      ]
     },
     "execution_count": 33,
     "metadata": {},
     "output_type": "execute_result"
    }
   ],
   "source": [
    "cars['enginetype'].unique()"
   ]
  },
  {
   "cell_type": "code",
   "execution_count": 34,
   "metadata": {
    "colab": {
     "base_uri": "https://localhost:8080/"
    },
    "id": "GHCQ_O1Jizul",
    "outputId": "fc1e583a-a25c-4819-aa1e-d90233f9d867"
   },
   "outputs": [
    {
     "name": "stderr",
     "output_type": "stream",
     "text": [
      "C:\\Users\\ashfa\\AppData\\Local\\Temp\\ipykernel_11016\\411221345.py:1: FutureWarning: A value is trying to be set on a copy of a DataFrame or Series through chained assignment using an inplace method.\n",
      "The behavior will change in pandas 3.0. This inplace method will never work because the intermediate object on which we are setting values always behaves as a copy.\n",
      "\n",
      "For example, when doing 'df[col].method(value, inplace=True)', try using 'df.method({col: value}, inplace=True)' or df[col] = df[col].method(value) instead, to perform the operation inplace on the original object.\n",
      "\n",
      "\n",
      "  cars['enginetype'].replace(['dohc', 'ohcv', 'ohc', 'l', 'rotor', 'ohcf', 'dohcv'],\n",
      "C:\\Users\\ashfa\\AppData\\Local\\Temp\\ipykernel_11016\\411221345.py:1: FutureWarning: Downcasting behavior in `replace` is deprecated and will be removed in a future version. To retain the old behavior, explicitly call `result.infer_objects(copy=False)`. To opt-in to the future behavior, set `pd.set_option('future.no_silent_downcasting', True)`\n",
      "  cars['enginetype'].replace(['dohc', 'ohcv', 'ohc', 'l', 'rotor', 'ohcf', 'dohcv'],\n"
     ]
    }
   ],
   "source": [
    "cars['enginetype'].replace(['dohc', 'ohcv', 'ohc', 'l', 'rotor', 'ohcf', 'dohcv'],\n",
    "                          [1,2,3,4,5,6,7], inplace=True)"
   ]
  },
  {
   "cell_type": "code",
   "execution_count": 35,
   "metadata": {
    "colab": {
     "base_uri": "https://localhost:8080/"
    },
    "id": "i8IXvdTAi8nX",
    "outputId": "8df0941b-217f-458f-c1a6-0fd827d12ec9"
   },
   "outputs": [
    {
     "data": {
      "text/plain": [
       "array(['four', 'six', 'five', 'three', 'twelve', 'two', 'eight'],\n",
       "      dtype=object)"
      ]
     },
     "execution_count": 35,
     "metadata": {},
     "output_type": "execute_result"
    }
   ],
   "source": [
    "cars['cylindernumber'].unique()"
   ]
  },
  {
   "cell_type": "code",
   "execution_count": 36,
   "metadata": {
    "colab": {
     "base_uri": "https://localhost:8080/"
    },
    "id": "oK14XhW7jEoE",
    "outputId": "76da19e2-b230-4039-9a38-a2d6023412e9"
   },
   "outputs": [
    {
     "name": "stderr",
     "output_type": "stream",
     "text": [
      "C:\\Users\\ashfa\\AppData\\Local\\Temp\\ipykernel_11016\\2455539750.py:1: FutureWarning: A value is trying to be set on a copy of a DataFrame or Series through chained assignment using an inplace method.\n",
      "The behavior will change in pandas 3.0. This inplace method will never work because the intermediate object on which we are setting values always behaves as a copy.\n",
      "\n",
      "For example, when doing 'df[col].method(value, inplace=True)', try using 'df.method({col: value}, inplace=True)' or df[col] = df[col].method(value) instead, to perform the operation inplace on the original object.\n",
      "\n",
      "\n",
      "  cars['cylindernumber'].replace(['four', 'six', 'five', 'three', 'twelve', 'two', 'eight'],\n",
      "C:\\Users\\ashfa\\AppData\\Local\\Temp\\ipykernel_11016\\2455539750.py:1: FutureWarning: Downcasting behavior in `replace` is deprecated and will be removed in a future version. To retain the old behavior, explicitly call `result.infer_objects(copy=False)`. To opt-in to the future behavior, set `pd.set_option('future.no_silent_downcasting', True)`\n",
      "  cars['cylindernumber'].replace(['four', 'six', 'five', 'three', 'twelve', 'two', 'eight'],\n"
     ]
    }
   ],
   "source": [
    "cars['cylindernumber'].replace(['four', 'six', 'five', 'three', 'twelve', 'two', 'eight'],\n",
    "                          [4,6,5,3,12,2,8], inplace=True)"
   ]
  },
  {
   "cell_type": "code",
   "execution_count": 37,
   "metadata": {
    "colab": {
     "base_uri": "https://localhost:8080/"
    },
    "id": "R0mjayp2jSSC",
    "outputId": "09a23a83-52ac-4bfe-997a-22b4b837471d"
   },
   "outputs": [
    {
     "name": "stdout",
     "output_type": "stream",
     "text": [
      "<class 'pandas.core.frame.DataFrame'>\n",
      "RangeIndex: 205 entries, 0 to 204\n",
      "Data columns (total 20 columns):\n",
      " #   Column          Non-Null Count  Dtype  \n",
      "---  ------          --------------  -----  \n",
      " 0   symboling       205 non-null    int64  \n",
      " 1   CarName         205 non-null    int64  \n",
      " 2   fueltype        205 non-null    int64  \n",
      " 3   carbody         205 non-null    int64  \n",
      " 4   drivewheel      205 non-null    int64  \n",
      " 5   enginelocation  205 non-null    int64  \n",
      " 6   citympg         205 non-null    int64  \n",
      " 7   highwaympg      205 non-null    int64  \n",
      " 8   wheelbase       205 non-null    float64\n",
      " 9   carlength       205 non-null    float64\n",
      " 10  carwidth        205 non-null    float64\n",
      " 11  carheight       205 non-null    float64\n",
      " 12  curbweight      205 non-null    int64  \n",
      " 13  enginetype      205 non-null    int64  \n",
      " 14  cylindernumber  205 non-null    int64  \n",
      " 15  enginesize      205 non-null    int64  \n",
      " 16  stroke          205 non-null    float64\n",
      " 17  horsepower      205 non-null    int64  \n",
      " 18  peakrpm         205 non-null    int64  \n",
      " 19  price           205 non-null    float64\n",
      "dtypes: float64(6), int64(14)\n",
      "memory usage: 32.2 KB\n"
     ]
    }
   ],
   "source": [
    "cars.info()"
   ]
  },
  {
   "cell_type": "code",
   "execution_count": 38,
   "metadata": {
    "id": "nT1B02DAEYod"
   },
   "outputs": [],
   "source": [
    "cars.reset_index(inplace=True)"
   ]
  },
  {
   "cell_type": "code",
   "execution_count": 39,
   "metadata": {
    "id": "W7tegajSjxgi"
   },
   "outputs": [],
   "source": [
    "cars.drop(columns=['index'], inplace=True)"
   ]
  },
  {
   "cell_type": "code",
   "execution_count": 40,
   "metadata": {
    "colab": {
     "base_uri": "https://localhost:8080/",
     "height": 443
    },
    "id": "35Kp_xkVEYr4",
    "outputId": "39a3cd60-61c8-4dee-cb2b-7bb23c803baa"
   },
   "outputs": [
    {
     "data": {
      "text/html": [
       "<div>\n",
       "<style scoped>\n",
       "    .dataframe tbody tr th:only-of-type {\n",
       "        vertical-align: middle;\n",
       "    }\n",
       "\n",
       "    .dataframe tbody tr th {\n",
       "        vertical-align: top;\n",
       "    }\n",
       "\n",
       "    .dataframe thead th {\n",
       "        text-align: right;\n",
       "    }\n",
       "</style>\n",
       "<table border=\"1\" class=\"dataframe\">\n",
       "  <thead>\n",
       "    <tr style=\"text-align: right;\">\n",
       "      <th></th>\n",
       "      <th>symboling</th>\n",
       "      <th>CarName</th>\n",
       "      <th>fueltype</th>\n",
       "      <th>carbody</th>\n",
       "      <th>drivewheel</th>\n",
       "      <th>enginelocation</th>\n",
       "      <th>citympg</th>\n",
       "      <th>highwaympg</th>\n",
       "      <th>wheelbase</th>\n",
       "      <th>carlength</th>\n",
       "      <th>carwidth</th>\n",
       "      <th>carheight</th>\n",
       "      <th>curbweight</th>\n",
       "      <th>enginetype</th>\n",
       "      <th>cylindernumber</th>\n",
       "      <th>enginesize</th>\n",
       "      <th>stroke</th>\n",
       "      <th>horsepower</th>\n",
       "      <th>peakrpm</th>\n",
       "      <th>price</th>\n",
       "    </tr>\n",
       "  </thead>\n",
       "  <tbody>\n",
       "    <tr>\n",
       "      <th>0</th>\n",
       "      <td>3</td>\n",
       "      <td>1</td>\n",
       "      <td>1</td>\n",
       "      <td>1</td>\n",
       "      <td>1</td>\n",
       "      <td>1</td>\n",
       "      <td>21</td>\n",
       "      <td>27</td>\n",
       "      <td>88.6</td>\n",
       "      <td>168.8</td>\n",
       "      <td>64.1</td>\n",
       "      <td>48.8</td>\n",
       "      <td>2548</td>\n",
       "      <td>1</td>\n",
       "      <td>4</td>\n",
       "      <td>130</td>\n",
       "      <td>2.68</td>\n",
       "      <td>111</td>\n",
       "      <td>5000</td>\n",
       "      <td>13495.0</td>\n",
       "    </tr>\n",
       "    <tr>\n",
       "      <th>1</th>\n",
       "      <td>3</td>\n",
       "      <td>1</td>\n",
       "      <td>1</td>\n",
       "      <td>1</td>\n",
       "      <td>1</td>\n",
       "      <td>1</td>\n",
       "      <td>21</td>\n",
       "      <td>27</td>\n",
       "      <td>88.6</td>\n",
       "      <td>168.8</td>\n",
       "      <td>64.1</td>\n",
       "      <td>48.8</td>\n",
       "      <td>2548</td>\n",
       "      <td>1</td>\n",
       "      <td>4</td>\n",
       "      <td>130</td>\n",
       "      <td>2.68</td>\n",
       "      <td>111</td>\n",
       "      <td>5000</td>\n",
       "      <td>16500.0</td>\n",
       "    </tr>\n",
       "    <tr>\n",
       "      <th>2</th>\n",
       "      <td>1</td>\n",
       "      <td>1</td>\n",
       "      <td>1</td>\n",
       "      <td>2</td>\n",
       "      <td>1</td>\n",
       "      <td>1</td>\n",
       "      <td>19</td>\n",
       "      <td>26</td>\n",
       "      <td>94.5</td>\n",
       "      <td>171.2</td>\n",
       "      <td>65.5</td>\n",
       "      <td>52.4</td>\n",
       "      <td>2823</td>\n",
       "      <td>2</td>\n",
       "      <td>6</td>\n",
       "      <td>152</td>\n",
       "      <td>3.47</td>\n",
       "      <td>154</td>\n",
       "      <td>5000</td>\n",
       "      <td>16500.0</td>\n",
       "    </tr>\n",
       "    <tr>\n",
       "      <th>3</th>\n",
       "      <td>2</td>\n",
       "      <td>2</td>\n",
       "      <td>1</td>\n",
       "      <td>3</td>\n",
       "      <td>2</td>\n",
       "      <td>1</td>\n",
       "      <td>24</td>\n",
       "      <td>30</td>\n",
       "      <td>99.8</td>\n",
       "      <td>176.6</td>\n",
       "      <td>66.2</td>\n",
       "      <td>54.3</td>\n",
       "      <td>2337</td>\n",
       "      <td>3</td>\n",
       "      <td>4</td>\n",
       "      <td>109</td>\n",
       "      <td>3.40</td>\n",
       "      <td>102</td>\n",
       "      <td>5500</td>\n",
       "      <td>13950.0</td>\n",
       "    </tr>\n",
       "    <tr>\n",
       "      <th>4</th>\n",
       "      <td>2</td>\n",
       "      <td>2</td>\n",
       "      <td>1</td>\n",
       "      <td>3</td>\n",
       "      <td>3</td>\n",
       "      <td>1</td>\n",
       "      <td>18</td>\n",
       "      <td>22</td>\n",
       "      <td>99.4</td>\n",
       "      <td>176.6</td>\n",
       "      <td>66.4</td>\n",
       "      <td>54.3</td>\n",
       "      <td>2824</td>\n",
       "      <td>3</td>\n",
       "      <td>5</td>\n",
       "      <td>136</td>\n",
       "      <td>3.40</td>\n",
       "      <td>115</td>\n",
       "      <td>5500</td>\n",
       "      <td>17450.0</td>\n",
       "    </tr>\n",
       "    <tr>\n",
       "      <th>...</th>\n",
       "      <td>...</td>\n",
       "      <td>...</td>\n",
       "      <td>...</td>\n",
       "      <td>...</td>\n",
       "      <td>...</td>\n",
       "      <td>...</td>\n",
       "      <td>...</td>\n",
       "      <td>...</td>\n",
       "      <td>...</td>\n",
       "      <td>...</td>\n",
       "      <td>...</td>\n",
       "      <td>...</td>\n",
       "      <td>...</td>\n",
       "      <td>...</td>\n",
       "      <td>...</td>\n",
       "      <td>...</td>\n",
       "      <td>...</td>\n",
       "      <td>...</td>\n",
       "      <td>...</td>\n",
       "      <td>...</td>\n",
       "    </tr>\n",
       "    <tr>\n",
       "      <th>200</th>\n",
       "      <td>-1</td>\n",
       "      <td>28</td>\n",
       "      <td>1</td>\n",
       "      <td>3</td>\n",
       "      <td>1</td>\n",
       "      <td>1</td>\n",
       "      <td>23</td>\n",
       "      <td>28</td>\n",
       "      <td>109.1</td>\n",
       "      <td>188.8</td>\n",
       "      <td>68.9</td>\n",
       "      <td>55.5</td>\n",
       "      <td>2952</td>\n",
       "      <td>3</td>\n",
       "      <td>4</td>\n",
       "      <td>141</td>\n",
       "      <td>3.15</td>\n",
       "      <td>114</td>\n",
       "      <td>5400</td>\n",
       "      <td>16845.0</td>\n",
       "    </tr>\n",
       "    <tr>\n",
       "      <th>201</th>\n",
       "      <td>-1</td>\n",
       "      <td>28</td>\n",
       "      <td>1</td>\n",
       "      <td>3</td>\n",
       "      <td>1</td>\n",
       "      <td>1</td>\n",
       "      <td>19</td>\n",
       "      <td>25</td>\n",
       "      <td>109.1</td>\n",
       "      <td>188.8</td>\n",
       "      <td>68.8</td>\n",
       "      <td>55.5</td>\n",
       "      <td>3049</td>\n",
       "      <td>3</td>\n",
       "      <td>4</td>\n",
       "      <td>141</td>\n",
       "      <td>3.15</td>\n",
       "      <td>160</td>\n",
       "      <td>5300</td>\n",
       "      <td>19045.0</td>\n",
       "    </tr>\n",
       "    <tr>\n",
       "      <th>202</th>\n",
       "      <td>-1</td>\n",
       "      <td>28</td>\n",
       "      <td>1</td>\n",
       "      <td>3</td>\n",
       "      <td>1</td>\n",
       "      <td>1</td>\n",
       "      <td>18</td>\n",
       "      <td>23</td>\n",
       "      <td>109.1</td>\n",
       "      <td>188.8</td>\n",
       "      <td>68.9</td>\n",
       "      <td>55.5</td>\n",
       "      <td>3012</td>\n",
       "      <td>2</td>\n",
       "      <td>6</td>\n",
       "      <td>173</td>\n",
       "      <td>2.87</td>\n",
       "      <td>134</td>\n",
       "      <td>5500</td>\n",
       "      <td>21485.0</td>\n",
       "    </tr>\n",
       "    <tr>\n",
       "      <th>203</th>\n",
       "      <td>-1</td>\n",
       "      <td>28</td>\n",
       "      <td>2</td>\n",
       "      <td>3</td>\n",
       "      <td>1</td>\n",
       "      <td>1</td>\n",
       "      <td>26</td>\n",
       "      <td>27</td>\n",
       "      <td>109.1</td>\n",
       "      <td>188.8</td>\n",
       "      <td>68.9</td>\n",
       "      <td>55.5</td>\n",
       "      <td>3217</td>\n",
       "      <td>3</td>\n",
       "      <td>6</td>\n",
       "      <td>145</td>\n",
       "      <td>3.40</td>\n",
       "      <td>106</td>\n",
       "      <td>4800</td>\n",
       "      <td>22470.0</td>\n",
       "    </tr>\n",
       "    <tr>\n",
       "      <th>204</th>\n",
       "      <td>-1</td>\n",
       "      <td>28</td>\n",
       "      <td>1</td>\n",
       "      <td>3</td>\n",
       "      <td>1</td>\n",
       "      <td>1</td>\n",
       "      <td>19</td>\n",
       "      <td>25</td>\n",
       "      <td>109.1</td>\n",
       "      <td>188.8</td>\n",
       "      <td>68.9</td>\n",
       "      <td>55.5</td>\n",
       "      <td>3062</td>\n",
       "      <td>3</td>\n",
       "      <td>4</td>\n",
       "      <td>141</td>\n",
       "      <td>3.15</td>\n",
       "      <td>114</td>\n",
       "      <td>5400</td>\n",
       "      <td>22625.0</td>\n",
       "    </tr>\n",
       "  </tbody>\n",
       "</table>\n",
       "<p>205 rows × 20 columns</p>\n",
       "</div>"
      ],
      "text/plain": [
       "     symboling  CarName  fueltype  carbody  drivewheel  enginelocation  \\\n",
       "0            3        1         1        1           1               1   \n",
       "1            3        1         1        1           1               1   \n",
       "2            1        1         1        2           1               1   \n",
       "3            2        2         1        3           2               1   \n",
       "4            2        2         1        3           3               1   \n",
       "..         ...      ...       ...      ...         ...             ...   \n",
       "200         -1       28         1        3           1               1   \n",
       "201         -1       28         1        3           1               1   \n",
       "202         -1       28         1        3           1               1   \n",
       "203         -1       28         2        3           1               1   \n",
       "204         -1       28         1        3           1               1   \n",
       "\n",
       "     citympg  highwaympg  wheelbase  carlength  carwidth  carheight  \\\n",
       "0         21          27       88.6      168.8      64.1       48.8   \n",
       "1         21          27       88.6      168.8      64.1       48.8   \n",
       "2         19          26       94.5      171.2      65.5       52.4   \n",
       "3         24          30       99.8      176.6      66.2       54.3   \n",
       "4         18          22       99.4      176.6      66.4       54.3   \n",
       "..       ...         ...        ...        ...       ...        ...   \n",
       "200       23          28      109.1      188.8      68.9       55.5   \n",
       "201       19          25      109.1      188.8      68.8       55.5   \n",
       "202       18          23      109.1      188.8      68.9       55.5   \n",
       "203       26          27      109.1      188.8      68.9       55.5   \n",
       "204       19          25      109.1      188.8      68.9       55.5   \n",
       "\n",
       "     curbweight  enginetype  cylindernumber  enginesize  stroke  horsepower  \\\n",
       "0          2548           1               4         130    2.68         111   \n",
       "1          2548           1               4         130    2.68         111   \n",
       "2          2823           2               6         152    3.47         154   \n",
       "3          2337           3               4         109    3.40         102   \n",
       "4          2824           3               5         136    3.40         115   \n",
       "..          ...         ...             ...         ...     ...         ...   \n",
       "200        2952           3               4         141    3.15         114   \n",
       "201        3049           3               4         141    3.15         160   \n",
       "202        3012           2               6         173    2.87         134   \n",
       "203        3217           3               6         145    3.40         106   \n",
       "204        3062           3               4         141    3.15         114   \n",
       "\n",
       "     peakrpm    price  \n",
       "0       5000  13495.0  \n",
       "1       5000  16500.0  \n",
       "2       5000  16500.0  \n",
       "3       5500  13950.0  \n",
       "4       5500  17450.0  \n",
       "..       ...      ...  \n",
       "200     5400  16845.0  \n",
       "201     5300  19045.0  \n",
       "202     5500  21485.0  \n",
       "203     4800  22470.0  \n",
       "204     5400  22625.0  \n",
       "\n",
       "[205 rows x 20 columns]"
      ]
     },
     "execution_count": 40,
     "metadata": {},
     "output_type": "execute_result"
    }
   ],
   "source": [
    "cars"
   ]
  },
  {
   "cell_type": "code",
   "execution_count": 41,
   "metadata": {
    "id": "2j8FE6vmkcxP"
   },
   "outputs": [],
   "source": [
    "input=cars.drop(columns=['price'])\n",
    "output=cars['price']"
   ]
  },
  {
   "cell_type": "code",
   "execution_count": 42,
   "metadata": {
    "id": "1wa2LDBlHW1-"
   },
   "outputs": [],
   "source": [
    "x_train, x_test, y_train, y_test = train_test_split(input, output, test_size=0.2)"
   ]
  },
  {
   "cell_type": "code",
   "execution_count": 43,
   "metadata": {
    "id": "9PFDLLDVlQ0k"
   },
   "outputs": [],
   "source": [
    "#creating the model\n",
    "\n",
    "model= LinearRegression()"
   ]
  },
  {
   "cell_type": "code",
   "execution_count": 44,
   "metadata": {
    "colab": {
     "base_uri": "https://localhost:8080/",
     "height": 80
    },
    "id": "nuGhZ3VvlQ-1",
    "outputId": "134cce49-c8c3-47eb-a45e-4a949812b952"
   },
   "outputs": [
    {
     "data": {
      "text/html": [
       "<style>#sk-container-id-1 {\n",
       "  /* Definition of color scheme common for light and dark mode */\n",
       "  --sklearn-color-text: black;\n",
       "  --sklearn-color-line: gray;\n",
       "  /* Definition of color scheme for unfitted estimators */\n",
       "  --sklearn-color-unfitted-level-0: #fff5e6;\n",
       "  --sklearn-color-unfitted-level-1: #f6e4d2;\n",
       "  --sklearn-color-unfitted-level-2: #ffe0b3;\n",
       "  --sklearn-color-unfitted-level-3: chocolate;\n",
       "  /* Definition of color scheme for fitted estimators */\n",
       "  --sklearn-color-fitted-level-0: #f0f8ff;\n",
       "  --sklearn-color-fitted-level-1: #d4ebff;\n",
       "  --sklearn-color-fitted-level-2: #b3dbfd;\n",
       "  --sklearn-color-fitted-level-3: cornflowerblue;\n",
       "\n",
       "  /* Specific color for light theme */\n",
       "  --sklearn-color-text-on-default-background: var(--sg-text-color, var(--theme-code-foreground, var(--jp-content-font-color1, black)));\n",
       "  --sklearn-color-background: var(--sg-background-color, var(--theme-background, var(--jp-layout-color0, white)));\n",
       "  --sklearn-color-border-box: var(--sg-text-color, var(--theme-code-foreground, var(--jp-content-font-color1, black)));\n",
       "  --sklearn-color-icon: #696969;\n",
       "\n",
       "  @media (prefers-color-scheme: dark) {\n",
       "    /* Redefinition of color scheme for dark theme */\n",
       "    --sklearn-color-text-on-default-background: var(--sg-text-color, var(--theme-code-foreground, var(--jp-content-font-color1, white)));\n",
       "    --sklearn-color-background: var(--sg-background-color, var(--theme-background, var(--jp-layout-color0, #111)));\n",
       "    --sklearn-color-border-box: var(--sg-text-color, var(--theme-code-foreground, var(--jp-content-font-color1, white)));\n",
       "    --sklearn-color-icon: #878787;\n",
       "  }\n",
       "}\n",
       "\n",
       "#sk-container-id-1 {\n",
       "  color: var(--sklearn-color-text);\n",
       "}\n",
       "\n",
       "#sk-container-id-1 pre {\n",
       "  padding: 0;\n",
       "}\n",
       "\n",
       "#sk-container-id-1 input.sk-hidden--visually {\n",
       "  border: 0;\n",
       "  clip: rect(1px 1px 1px 1px);\n",
       "  clip: rect(1px, 1px, 1px, 1px);\n",
       "  height: 1px;\n",
       "  margin: -1px;\n",
       "  overflow: hidden;\n",
       "  padding: 0;\n",
       "  position: absolute;\n",
       "  width: 1px;\n",
       "}\n",
       "\n",
       "#sk-container-id-1 div.sk-dashed-wrapped {\n",
       "  border: 1px dashed var(--sklearn-color-line);\n",
       "  margin: 0 0.4em 0.5em 0.4em;\n",
       "  box-sizing: border-box;\n",
       "  padding-bottom: 0.4em;\n",
       "  background-color: var(--sklearn-color-background);\n",
       "}\n",
       "\n",
       "#sk-container-id-1 div.sk-container {\n",
       "  /* jupyter's `normalize.less` sets `[hidden] { display: none; }`\n",
       "     but bootstrap.min.css set `[hidden] { display: none !important; }`\n",
       "     so we also need the `!important` here to be able to override the\n",
       "     default hidden behavior on the sphinx rendered scikit-learn.org.\n",
       "     See: https://github.com/scikit-learn/scikit-learn/issues/21755 */\n",
       "  display: inline-block !important;\n",
       "  position: relative;\n",
       "}\n",
       "\n",
       "#sk-container-id-1 div.sk-text-repr-fallback {\n",
       "  display: none;\n",
       "}\n",
       "\n",
       "div.sk-parallel-item,\n",
       "div.sk-serial,\n",
       "div.sk-item {\n",
       "  /* draw centered vertical line to link estimators */\n",
       "  background-image: linear-gradient(var(--sklearn-color-text-on-default-background), var(--sklearn-color-text-on-default-background));\n",
       "  background-size: 2px 100%;\n",
       "  background-repeat: no-repeat;\n",
       "  background-position: center center;\n",
       "}\n",
       "\n",
       "/* Parallel-specific style estimator block */\n",
       "\n",
       "#sk-container-id-1 div.sk-parallel-item::after {\n",
       "  content: \"\";\n",
       "  width: 100%;\n",
       "  border-bottom: 2px solid var(--sklearn-color-text-on-default-background);\n",
       "  flex-grow: 1;\n",
       "}\n",
       "\n",
       "#sk-container-id-1 div.sk-parallel {\n",
       "  display: flex;\n",
       "  align-items: stretch;\n",
       "  justify-content: center;\n",
       "  background-color: var(--sklearn-color-background);\n",
       "  position: relative;\n",
       "}\n",
       "\n",
       "#sk-container-id-1 div.sk-parallel-item {\n",
       "  display: flex;\n",
       "  flex-direction: column;\n",
       "}\n",
       "\n",
       "#sk-container-id-1 div.sk-parallel-item:first-child::after {\n",
       "  align-self: flex-end;\n",
       "  width: 50%;\n",
       "}\n",
       "\n",
       "#sk-container-id-1 div.sk-parallel-item:last-child::after {\n",
       "  align-self: flex-start;\n",
       "  width: 50%;\n",
       "}\n",
       "\n",
       "#sk-container-id-1 div.sk-parallel-item:only-child::after {\n",
       "  width: 0;\n",
       "}\n",
       "\n",
       "/* Serial-specific style estimator block */\n",
       "\n",
       "#sk-container-id-1 div.sk-serial {\n",
       "  display: flex;\n",
       "  flex-direction: column;\n",
       "  align-items: center;\n",
       "  background-color: var(--sklearn-color-background);\n",
       "  padding-right: 1em;\n",
       "  padding-left: 1em;\n",
       "}\n",
       "\n",
       "\n",
       "/* Toggleable style: style used for estimator/Pipeline/ColumnTransformer box that is\n",
       "clickable and can be expanded/collapsed.\n",
       "- Pipeline and ColumnTransformer use this feature and define the default style\n",
       "- Estimators will overwrite some part of the style using the `sk-estimator` class\n",
       "*/\n",
       "\n",
       "/* Pipeline and ColumnTransformer style (default) */\n",
       "\n",
       "#sk-container-id-1 div.sk-toggleable {\n",
       "  /* Default theme specific background. It is overwritten whether we have a\n",
       "  specific estimator or a Pipeline/ColumnTransformer */\n",
       "  background-color: var(--sklearn-color-background);\n",
       "}\n",
       "\n",
       "/* Toggleable label */\n",
       "#sk-container-id-1 label.sk-toggleable__label {\n",
       "  cursor: pointer;\n",
       "  display: block;\n",
       "  width: 100%;\n",
       "  margin-bottom: 0;\n",
       "  padding: 0.5em;\n",
       "  box-sizing: border-box;\n",
       "  text-align: center;\n",
       "}\n",
       "\n",
       "#sk-container-id-1 label.sk-toggleable__label-arrow:before {\n",
       "  /* Arrow on the left of the label */\n",
       "  content: \"▸\";\n",
       "  float: left;\n",
       "  margin-right: 0.25em;\n",
       "  color: var(--sklearn-color-icon);\n",
       "}\n",
       "\n",
       "#sk-container-id-1 label.sk-toggleable__label-arrow:hover:before {\n",
       "  color: var(--sklearn-color-text);\n",
       "}\n",
       "\n",
       "/* Toggleable content - dropdown */\n",
       "\n",
       "#sk-container-id-1 div.sk-toggleable__content {\n",
       "  max-height: 0;\n",
       "  max-width: 0;\n",
       "  overflow: hidden;\n",
       "  text-align: left;\n",
       "  /* unfitted */\n",
       "  background-color: var(--sklearn-color-unfitted-level-0);\n",
       "}\n",
       "\n",
       "#sk-container-id-1 div.sk-toggleable__content.fitted {\n",
       "  /* fitted */\n",
       "  background-color: var(--sklearn-color-fitted-level-0);\n",
       "}\n",
       "\n",
       "#sk-container-id-1 div.sk-toggleable__content pre {\n",
       "  margin: 0.2em;\n",
       "  border-radius: 0.25em;\n",
       "  color: var(--sklearn-color-text);\n",
       "  /* unfitted */\n",
       "  background-color: var(--sklearn-color-unfitted-level-0);\n",
       "}\n",
       "\n",
       "#sk-container-id-1 div.sk-toggleable__content.fitted pre {\n",
       "  /* unfitted */\n",
       "  background-color: var(--sklearn-color-fitted-level-0);\n",
       "}\n",
       "\n",
       "#sk-container-id-1 input.sk-toggleable__control:checked~div.sk-toggleable__content {\n",
       "  /* Expand drop-down */\n",
       "  max-height: 200px;\n",
       "  max-width: 100%;\n",
       "  overflow: auto;\n",
       "}\n",
       "\n",
       "#sk-container-id-1 input.sk-toggleable__control:checked~label.sk-toggleable__label-arrow:before {\n",
       "  content: \"▾\";\n",
       "}\n",
       "\n",
       "/* Pipeline/ColumnTransformer-specific style */\n",
       "\n",
       "#sk-container-id-1 div.sk-label input.sk-toggleable__control:checked~label.sk-toggleable__label {\n",
       "  color: var(--sklearn-color-text);\n",
       "  background-color: var(--sklearn-color-unfitted-level-2);\n",
       "}\n",
       "\n",
       "#sk-container-id-1 div.sk-label.fitted input.sk-toggleable__control:checked~label.sk-toggleable__label {\n",
       "  background-color: var(--sklearn-color-fitted-level-2);\n",
       "}\n",
       "\n",
       "/* Estimator-specific style */\n",
       "\n",
       "/* Colorize estimator box */\n",
       "#sk-container-id-1 div.sk-estimator input.sk-toggleable__control:checked~label.sk-toggleable__label {\n",
       "  /* unfitted */\n",
       "  background-color: var(--sklearn-color-unfitted-level-2);\n",
       "}\n",
       "\n",
       "#sk-container-id-1 div.sk-estimator.fitted input.sk-toggleable__control:checked~label.sk-toggleable__label {\n",
       "  /* fitted */\n",
       "  background-color: var(--sklearn-color-fitted-level-2);\n",
       "}\n",
       "\n",
       "#sk-container-id-1 div.sk-label label.sk-toggleable__label,\n",
       "#sk-container-id-1 div.sk-label label {\n",
       "  /* The background is the default theme color */\n",
       "  color: var(--sklearn-color-text-on-default-background);\n",
       "}\n",
       "\n",
       "/* On hover, darken the color of the background */\n",
       "#sk-container-id-1 div.sk-label:hover label.sk-toggleable__label {\n",
       "  color: var(--sklearn-color-text);\n",
       "  background-color: var(--sklearn-color-unfitted-level-2);\n",
       "}\n",
       "\n",
       "/* Label box, darken color on hover, fitted */\n",
       "#sk-container-id-1 div.sk-label.fitted:hover label.sk-toggleable__label.fitted {\n",
       "  color: var(--sklearn-color-text);\n",
       "  background-color: var(--sklearn-color-fitted-level-2);\n",
       "}\n",
       "\n",
       "/* Estimator label */\n",
       "\n",
       "#sk-container-id-1 div.sk-label label {\n",
       "  font-family: monospace;\n",
       "  font-weight: bold;\n",
       "  display: inline-block;\n",
       "  line-height: 1.2em;\n",
       "}\n",
       "\n",
       "#sk-container-id-1 div.sk-label-container {\n",
       "  text-align: center;\n",
       "}\n",
       "\n",
       "/* Estimator-specific */\n",
       "#sk-container-id-1 div.sk-estimator {\n",
       "  font-family: monospace;\n",
       "  border: 1px dotted var(--sklearn-color-border-box);\n",
       "  border-radius: 0.25em;\n",
       "  box-sizing: border-box;\n",
       "  margin-bottom: 0.5em;\n",
       "  /* unfitted */\n",
       "  background-color: var(--sklearn-color-unfitted-level-0);\n",
       "}\n",
       "\n",
       "#sk-container-id-1 div.sk-estimator.fitted {\n",
       "  /* fitted */\n",
       "  background-color: var(--sklearn-color-fitted-level-0);\n",
       "}\n",
       "\n",
       "/* on hover */\n",
       "#sk-container-id-1 div.sk-estimator:hover {\n",
       "  /* unfitted */\n",
       "  background-color: var(--sklearn-color-unfitted-level-2);\n",
       "}\n",
       "\n",
       "#sk-container-id-1 div.sk-estimator.fitted:hover {\n",
       "  /* fitted */\n",
       "  background-color: var(--sklearn-color-fitted-level-2);\n",
       "}\n",
       "\n",
       "/* Specification for estimator info (e.g. \"i\" and \"?\") */\n",
       "\n",
       "/* Common style for \"i\" and \"?\" */\n",
       "\n",
       ".sk-estimator-doc-link,\n",
       "a:link.sk-estimator-doc-link,\n",
       "a:visited.sk-estimator-doc-link {\n",
       "  float: right;\n",
       "  font-size: smaller;\n",
       "  line-height: 1em;\n",
       "  font-family: monospace;\n",
       "  background-color: var(--sklearn-color-background);\n",
       "  border-radius: 1em;\n",
       "  height: 1em;\n",
       "  width: 1em;\n",
       "  text-decoration: none !important;\n",
       "  margin-left: 1ex;\n",
       "  /* unfitted */\n",
       "  border: var(--sklearn-color-unfitted-level-1) 1pt solid;\n",
       "  color: var(--sklearn-color-unfitted-level-1);\n",
       "}\n",
       "\n",
       ".sk-estimator-doc-link.fitted,\n",
       "a:link.sk-estimator-doc-link.fitted,\n",
       "a:visited.sk-estimator-doc-link.fitted {\n",
       "  /* fitted */\n",
       "  border: var(--sklearn-color-fitted-level-1) 1pt solid;\n",
       "  color: var(--sklearn-color-fitted-level-1);\n",
       "}\n",
       "\n",
       "/* On hover */\n",
       "div.sk-estimator:hover .sk-estimator-doc-link:hover,\n",
       ".sk-estimator-doc-link:hover,\n",
       "div.sk-label-container:hover .sk-estimator-doc-link:hover,\n",
       ".sk-estimator-doc-link:hover {\n",
       "  /* unfitted */\n",
       "  background-color: var(--sklearn-color-unfitted-level-3);\n",
       "  color: var(--sklearn-color-background);\n",
       "  text-decoration: none;\n",
       "}\n",
       "\n",
       "div.sk-estimator.fitted:hover .sk-estimator-doc-link.fitted:hover,\n",
       ".sk-estimator-doc-link.fitted:hover,\n",
       "div.sk-label-container:hover .sk-estimator-doc-link.fitted:hover,\n",
       ".sk-estimator-doc-link.fitted:hover {\n",
       "  /* fitted */\n",
       "  background-color: var(--sklearn-color-fitted-level-3);\n",
       "  color: var(--sklearn-color-background);\n",
       "  text-decoration: none;\n",
       "}\n",
       "\n",
       "/* Span, style for the box shown on hovering the info icon */\n",
       ".sk-estimator-doc-link span {\n",
       "  display: none;\n",
       "  z-index: 9999;\n",
       "  position: relative;\n",
       "  font-weight: normal;\n",
       "  right: .2ex;\n",
       "  padding: .5ex;\n",
       "  margin: .5ex;\n",
       "  width: min-content;\n",
       "  min-width: 20ex;\n",
       "  max-width: 50ex;\n",
       "  color: var(--sklearn-color-text);\n",
       "  box-shadow: 2pt 2pt 4pt #999;\n",
       "  /* unfitted */\n",
       "  background: var(--sklearn-color-unfitted-level-0);\n",
       "  border: .5pt solid var(--sklearn-color-unfitted-level-3);\n",
       "}\n",
       "\n",
       ".sk-estimator-doc-link.fitted span {\n",
       "  /* fitted */\n",
       "  background: var(--sklearn-color-fitted-level-0);\n",
       "  border: var(--sklearn-color-fitted-level-3);\n",
       "}\n",
       "\n",
       ".sk-estimator-doc-link:hover span {\n",
       "  display: block;\n",
       "}\n",
       "\n",
       "/* \"?\"-specific style due to the `<a>` HTML tag */\n",
       "\n",
       "#sk-container-id-1 a.estimator_doc_link {\n",
       "  float: right;\n",
       "  font-size: 1rem;\n",
       "  line-height: 1em;\n",
       "  font-family: monospace;\n",
       "  background-color: var(--sklearn-color-background);\n",
       "  border-radius: 1rem;\n",
       "  height: 1rem;\n",
       "  width: 1rem;\n",
       "  text-decoration: none;\n",
       "  /* unfitted */\n",
       "  color: var(--sklearn-color-unfitted-level-1);\n",
       "  border: var(--sklearn-color-unfitted-level-1) 1pt solid;\n",
       "}\n",
       "\n",
       "#sk-container-id-1 a.estimator_doc_link.fitted {\n",
       "  /* fitted */\n",
       "  border: var(--sklearn-color-fitted-level-1) 1pt solid;\n",
       "  color: var(--sklearn-color-fitted-level-1);\n",
       "}\n",
       "\n",
       "/* On hover */\n",
       "#sk-container-id-1 a.estimator_doc_link:hover {\n",
       "  /* unfitted */\n",
       "  background-color: var(--sklearn-color-unfitted-level-3);\n",
       "  color: var(--sklearn-color-background);\n",
       "  text-decoration: none;\n",
       "}\n",
       "\n",
       "#sk-container-id-1 a.estimator_doc_link.fitted:hover {\n",
       "  /* fitted */\n",
       "  background-color: var(--sklearn-color-fitted-level-3);\n",
       "}\n",
       "</style><div id=\"sk-container-id-1\" class=\"sk-top-container\"><div class=\"sk-text-repr-fallback\"><pre>LinearRegression()</pre><b>In a Jupyter environment, please rerun this cell to show the HTML representation or trust the notebook. <br />On GitHub, the HTML representation is unable to render, please try loading this page with nbviewer.org.</b></div><div class=\"sk-container\" hidden><div class=\"sk-item\"><div class=\"sk-estimator fitted sk-toggleable\"><input class=\"sk-toggleable__control sk-hidden--visually\" id=\"sk-estimator-id-1\" type=\"checkbox\" checked><label for=\"sk-estimator-id-1\" class=\"sk-toggleable__label fitted sk-toggleable__label-arrow fitted\">&nbsp;&nbsp;LinearRegression<a class=\"sk-estimator-doc-link fitted\" rel=\"noreferrer\" target=\"_blank\" href=\"https://scikit-learn.org/1.5/modules/generated/sklearn.linear_model.LinearRegression.html\">?<span>Documentation for LinearRegression</span></a><span class=\"sk-estimator-doc-link fitted\">i<span>Fitted</span></span></label><div class=\"sk-toggleable__content fitted\"><pre>LinearRegression()</pre></div> </div></div></div></div>"
      ],
      "text/plain": [
       "LinearRegression()"
      ]
     },
     "execution_count": 44,
     "metadata": {},
     "output_type": "execute_result"
    }
   ],
   "source": [
    "#train the model\n",
    "\n",
    "model.fit(x_train, y_train)"
   ]
  },
  {
   "cell_type": "code",
   "execution_count": 45,
   "metadata": {
    "colab": {
     "base_uri": "https://localhost:8080/"
    },
    "id": "aXwoVSUJlRDa",
    "outputId": "622ef19a-3b3e-4e5d-d46e-c951d20fdd19"
   },
   "outputs": [
    {
     "data": {
      "text/plain": [
       "array([11213.04069457, 13378.03395738,  6473.6494427 , 19782.72401394,\n",
       "        6330.35590578, 15177.1019858 ,  9147.65511018,  7496.22005749,\n",
       "       20782.03480395, 19107.7433091 ,  8067.96085371, 17307.15849178,\n",
       "        7989.00725196,  8065.3492776 , 11412.84116886,  5350.72121829,\n",
       "       18003.63682312, 10793.41105495,  3555.51199765,  6782.74236883,\n",
       "        7756.22382549, 10099.71989766,  7007.74739475,  7064.87486002,\n",
       "        5442.29672218, 16296.25768751, 11926.0332302 , 17491.6504432 ,\n",
       "        6431.20486427,  5270.44218204, 26392.24624808,  7902.85307828,\n",
       "       16694.59213023, 21221.87042615, 12747.58713487, 21379.61261018,\n",
       "       17489.26132053, 11338.28650597, 27061.31828034, 17393.6350101 ,\n",
       "        5864.77895521])"
      ]
     },
     "execution_count": 45,
     "metadata": {},
     "output_type": "execute_result"
    }
   ],
   "source": [
    "predict= model.predict(x_test)\n",
    "predict"
   ]
  },
  {
   "cell_type": "code",
   "execution_count": 46,
   "metadata": {
    "colab": {
     "base_uri": "https://localhost:8080/",
     "height": 101
    },
    "id": "Z0Sbyzy5lRG7",
    "outputId": "b2cddb6d-1122-44ba-c1a4-430d702c86a3"
   },
   "outputs": [
    {
     "data": {
      "text/html": [
       "<div>\n",
       "<style scoped>\n",
       "    .dataframe tbody tr th:only-of-type {\n",
       "        vertical-align: middle;\n",
       "    }\n",
       "\n",
       "    .dataframe tbody tr th {\n",
       "        vertical-align: top;\n",
       "    }\n",
       "\n",
       "    .dataframe thead th {\n",
       "        text-align: right;\n",
       "    }\n",
       "</style>\n",
       "<table border=\"1\" class=\"dataframe\">\n",
       "  <thead>\n",
       "    <tr style=\"text-align: right;\">\n",
       "      <th></th>\n",
       "      <th>symboling</th>\n",
       "      <th>CarName</th>\n",
       "      <th>fueltype</th>\n",
       "      <th>carbody</th>\n",
       "      <th>drivewheel</th>\n",
       "      <th>enginelocation</th>\n",
       "      <th>citympg</th>\n",
       "      <th>highwaympg</th>\n",
       "      <th>wheelbase</th>\n",
       "      <th>carlength</th>\n",
       "      <th>carwidth</th>\n",
       "      <th>carheight</th>\n",
       "      <th>curbweight</th>\n",
       "      <th>enginetype</th>\n",
       "      <th>cylindernumber</th>\n",
       "      <th>enginesize</th>\n",
       "      <th>stroke</th>\n",
       "      <th>horsepower</th>\n",
       "      <th>peakrpm</th>\n",
       "    </tr>\n",
       "  </thead>\n",
       "  <tbody>\n",
       "    <tr>\n",
       "      <th>141</th>\n",
       "      <td>0</td>\n",
       "      <td>22</td>\n",
       "      <td>1</td>\n",
       "      <td>3</td>\n",
       "      <td>2</td>\n",
       "      <td>1</td>\n",
       "      <td>32</td>\n",
       "      <td>37</td>\n",
       "      <td>97.2</td>\n",
       "      <td>172.0</td>\n",
       "      <td>65.4</td>\n",
       "      <td>52.5</td>\n",
       "      <td>2145</td>\n",
       "      <td>6</td>\n",
       "      <td>4</td>\n",
       "      <td>108</td>\n",
       "      <td>2.64</td>\n",
       "      <td>82</td>\n",
       "      <td>4800</td>\n",
       "    </tr>\n",
       "  </tbody>\n",
       "</table>\n",
       "</div>"
      ],
      "text/plain": [
       "     symboling  CarName  fueltype  carbody  drivewheel  enginelocation  \\\n",
       "141          0       22         1        3           2               1   \n",
       "\n",
       "     citympg  highwaympg  wheelbase  carlength  carwidth  carheight  \\\n",
       "141       32          37       97.2      172.0      65.4       52.5   \n",
       "\n",
       "     curbweight  enginetype  cylindernumber  enginesize  stroke  horsepower  \\\n",
       "141        2145           6               4         108    2.64          82   \n",
       "\n",
       "     peakrpm  \n",
       "141     4800  "
      ]
     },
     "execution_count": 46,
     "metadata": {},
     "output_type": "execute_result"
    }
   ],
   "source": [
    "x_train.head(1)"
   ]
  },
  {
   "cell_type": "code",
   "execution_count": 47,
   "metadata": {
    "id": "hFLX83ICmaXu"
   },
   "outputs": [],
   "source": [
    "input_data_model= pd.DataFrame(\n",
    "    [[1,\t5,\t1,\t2,\t2,\t1,\t24,\t30,\t93.7,\t157.3,\t63.8,\t50.8,\t2128,\t3,\t4,\t98,\t3.39,\t102,\t5500,]],\n",
    "    columns=['symboling',\t'CarName', 'fueltype',\t'carbody',\t'drivewheel',\t'enginelocation',\t'citympg',\t'highwaympg',\n",
    "             'wheelbase',\t'carlength', 'carwidth',\t'carheight',\t'curbweight',\t'enginetype',\t'cylindernumber',\t'enginesize',\t'stroke',\t'horsepower',\n",
    "             'peakrpm']\n",
    ")"
   ]
  },
  {
   "cell_type": "code",
   "execution_count": 48,
   "metadata": {
    "colab": {
     "base_uri": "https://localhost:8080/",
     "height": 109
    },
    "id": "5pB1niUwmaaP",
    "outputId": "669eb4a0-19b7-46d6-c2eb-3f000664b580"
   },
   "outputs": [
    {
     "data": {
      "text/html": [
       "<div>\n",
       "<style scoped>\n",
       "    .dataframe tbody tr th:only-of-type {\n",
       "        vertical-align: middle;\n",
       "    }\n",
       "\n",
       "    .dataframe tbody tr th {\n",
       "        vertical-align: top;\n",
       "    }\n",
       "\n",
       "    .dataframe thead th {\n",
       "        text-align: right;\n",
       "    }\n",
       "</style>\n",
       "<table border=\"1\" class=\"dataframe\">\n",
       "  <thead>\n",
       "    <tr style=\"text-align: right;\">\n",
       "      <th></th>\n",
       "      <th>symboling</th>\n",
       "      <th>CarName</th>\n",
       "      <th>fueltype</th>\n",
       "      <th>carbody</th>\n",
       "      <th>drivewheel</th>\n",
       "      <th>enginelocation</th>\n",
       "      <th>citympg</th>\n",
       "      <th>highwaympg</th>\n",
       "      <th>wheelbase</th>\n",
       "      <th>carlength</th>\n",
       "      <th>carwidth</th>\n",
       "      <th>carheight</th>\n",
       "      <th>curbweight</th>\n",
       "      <th>enginetype</th>\n",
       "      <th>cylindernumber</th>\n",
       "      <th>enginesize</th>\n",
       "      <th>stroke</th>\n",
       "      <th>horsepower</th>\n",
       "      <th>peakrpm</th>\n",
       "    </tr>\n",
       "  </thead>\n",
       "  <tbody>\n",
       "    <tr>\n",
       "      <th>0</th>\n",
       "      <td>1</td>\n",
       "      <td>5</td>\n",
       "      <td>1</td>\n",
       "      <td>2</td>\n",
       "      <td>2</td>\n",
       "      <td>1</td>\n",
       "      <td>24</td>\n",
       "      <td>30</td>\n",
       "      <td>93.7</td>\n",
       "      <td>157.3</td>\n",
       "      <td>63.8</td>\n",
       "      <td>50.8</td>\n",
       "      <td>2128</td>\n",
       "      <td>3</td>\n",
       "      <td>4</td>\n",
       "      <td>98</td>\n",
       "      <td>3.39</td>\n",
       "      <td>102</td>\n",
       "      <td>5500</td>\n",
       "    </tr>\n",
       "  </tbody>\n",
       "</table>\n",
       "</div>"
      ],
      "text/plain": [
       "   symboling  CarName  fueltype  carbody  drivewheel  enginelocation  citympg  \\\n",
       "0          1        5         1        2           2               1       24   \n",
       "\n",
       "   highwaympg  wheelbase  carlength  carwidth  carheight  curbweight  \\\n",
       "0          30       93.7      157.3      63.8       50.8        2128   \n",
       "\n",
       "   enginetype  cylindernumber  enginesize  stroke  horsepower  peakrpm  \n",
       "0           3               4          98    3.39         102     5500  "
      ]
     },
     "execution_count": 48,
     "metadata": {},
     "output_type": "execute_result"
    }
   ],
   "source": [
    "input_data_model"
   ]
  },
  {
   "cell_type": "code",
   "execution_count": 49,
   "metadata": {
    "colab": {
     "base_uri": "https://localhost:8080/"
    },
    "id": "zsZEOj8emac8",
    "outputId": "c05833e0-beeb-42dc-fda0-3f53f000d281"
   },
   "outputs": [
    {
     "data": {
      "text/plain": [
       "array([9311.68438414])"
      ]
     },
     "execution_count": 49,
     "metadata": {},
     "output_type": "execute_result"
    }
   ],
   "source": [
    "model.predict(input_data_model)"
   ]
  },
  {
   "cell_type": "code",
   "execution_count": 50,
   "metadata": {
    "id": "hjule4VGmafj"
   },
   "outputs": [],
   "source": [
    "import pickle as pk"
   ]
  },
  {
   "cell_type": "code",
   "execution_count": 51,
   "metadata": {
    "id": "zOB0XS-Ootw7"
   },
   "outputs": [],
   "source": [
    "pk.dump(model,open('model.pk1', 'wb'))"
   ]
  },
  {
   "cell_type": "code",
   "execution_count": null,
   "metadata": {
    "id": "YLUhLjS3otzs"
   },
   "outputs": [],
   "source": []
  },
  {
   "cell_type": "code",
   "execution_count": null,
   "metadata": {
    "id": "OxPeHB1Wot2D"
   },
   "outputs": [],
   "source": []
  },
  {
   "cell_type": "code",
   "execution_count": null,
   "metadata": {
    "id": "N9kCFReBot5s"
   },
   "outputs": [],
   "source": []
  }
 ],
 "metadata": {
  "colab": {
   "provenance": []
  },
  "kernelspec": {
   "display_name": "Python 3",
   "name": "python3"
  },
  "language_info": {
   "codemirror_mode": {
    "name": "ipython",
    "version": 3
   },
   "file_extension": ".py",
   "mimetype": "text/x-python",
   "name": "python",
   "nbconvert_exporter": "python",
   "pygments_lexer": "ipython3",
   "version": "3.11.9"
  }
 },
 "nbformat": 4,
 "nbformat_minor": 0
}
